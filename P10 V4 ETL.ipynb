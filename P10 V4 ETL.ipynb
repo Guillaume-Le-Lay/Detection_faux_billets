{
 "cells": [
  {
   "cell_type": "markdown",
   "metadata": {},
   "source": [
    "# Sommaire\n",
    "- <a href=\"#C1\">Import des librairies\n",
    "- <a href=\"#C2\">Import des datasets\n",
    "- <a href=\"#C3\">Première analyse des variables\n",
    "- <a href=\"#C31\">Remplacement des valeurs colonne is_genuine\n",
    "- <a href=\"#C4\">Remplacement des valeurs manquantes avec une régression linéaire"
   ]
  },
  {
   "cell_type": "markdown",
   "metadata": {},
   "source": [
    "# <a name=\"C1\">Import des librairies"
   ]
  },
  {
   "cell_type": "code",
   "execution_count": 1,
   "metadata": {},
   "outputs": [],
   "source": [
    "import pandas as pd\n",
    "pd.options.mode.chained_assignment = None  # default='warn'\n",
    "pd.options.display.max_columns = None # pour afficher toutes les colonnes\n",
    "pd.options.display.max_rows = None # pour afficher toutes les lignes\n",
    "# output option format of pandas library changed (to not have exponentials)\n",
    "pd.set_option('display.float_format', lambda x: '%.5f' % x)\n",
    "\n",
    "import numpy as np\n",
    "\n",
    "from datetime import datetime\n",
    "\n",
    "import matplotlib as mpl\n",
    "import matplotlib.pyplot as plt\n",
    "import matplotlib.ticker as plticker\n",
    "\n",
    "import seaborn as sns\n",
    "\n",
    "pd.options.display.max_columns = None # pour afficher toutes les colonnes\n",
    "pd.options.display.max_rows = None # pour afficher toutes les lignes\n",
    "\n",
    "import statsmodels.api as sm\n",
    "import statsmodels.formula.api as smf\n",
    "from scipy.stats import t, shapiro\n",
    "from statsmodels.stats.outliers_influence import variance_inflation_factor\n",
    "import statsmodels\n",
    "from functions import *"
   ]
  },
  {
   "cell_type": "markdown",
   "metadata": {},
   "source": [
    "# <a name=\"C2\">Import et lecture des datasets"
   ]
  },
  {
   "cell_type": "code",
   "execution_count": 2,
   "metadata": {},
   "outputs": [],
   "source": [
    "billets = pd.read_csv('billets.csv', delimiter=';')"
   ]
  },
  {
   "cell_type": "code",
   "execution_count": 31,
   "metadata": {},
   "outputs": [
    {
     "data": {
      "text/html": [
       "<div>\n",
       "<style scoped>\n",
       "    .dataframe tbody tr th:only-of-type {\n",
       "        vertical-align: middle;\n",
       "    }\n",
       "\n",
       "    .dataframe tbody tr th {\n",
       "        vertical-align: top;\n",
       "    }\n",
       "\n",
       "    .dataframe thead th {\n",
       "        text-align: right;\n",
       "    }\n",
       "</style>\n",
       "<table border=\"1\" class=\"dataframe\">\n",
       "  <thead>\n",
       "    <tr style=\"text-align: right;\">\n",
       "      <th></th>\n",
       "      <th>is_genuine</th>\n",
       "      <th>diagonal</th>\n",
       "      <th>height_left</th>\n",
       "      <th>height_right</th>\n",
       "      <th>margin_low</th>\n",
       "      <th>margin_up</th>\n",
       "      <th>length</th>\n",
       "    </tr>\n",
       "  </thead>\n",
       "  <tbody>\n",
       "    <tr>\n",
       "      <th>0</th>\n",
       "      <td>1</td>\n",
       "      <td>171.81000</td>\n",
       "      <td>104.86000</td>\n",
       "      <td>104.95000</td>\n",
       "      <td>4.52000</td>\n",
       "      <td>2.89000</td>\n",
       "      <td>112.83000</td>\n",
       "    </tr>\n",
       "    <tr>\n",
       "      <th>1</th>\n",
       "      <td>1</td>\n",
       "      <td>171.46000</td>\n",
       "      <td>103.36000</td>\n",
       "      <td>103.66000</td>\n",
       "      <td>3.77000</td>\n",
       "      <td>2.99000</td>\n",
       "      <td>113.09000</td>\n",
       "    </tr>\n",
       "    <tr>\n",
       "      <th>2</th>\n",
       "      <td>1</td>\n",
       "      <td>172.69000</td>\n",
       "      <td>104.48000</td>\n",
       "      <td>103.50000</td>\n",
       "      <td>4.40000</td>\n",
       "      <td>2.94000</td>\n",
       "      <td>113.16000</td>\n",
       "    </tr>\n",
       "    <tr>\n",
       "      <th>3</th>\n",
       "      <td>1</td>\n",
       "      <td>171.36000</td>\n",
       "      <td>103.91000</td>\n",
       "      <td>103.94000</td>\n",
       "      <td>3.62000</td>\n",
       "      <td>3.01000</td>\n",
       "      <td>113.51000</td>\n",
       "    </tr>\n",
       "    <tr>\n",
       "      <th>4</th>\n",
       "      <td>1</td>\n",
       "      <td>171.73000</td>\n",
       "      <td>104.28000</td>\n",
       "      <td>103.46000</td>\n",
       "      <td>4.04000</td>\n",
       "      <td>3.48000</td>\n",
       "      <td>112.54000</td>\n",
       "    </tr>\n",
       "  </tbody>\n",
       "</table>\n",
       "</div>"
      ],
      "text/plain": [
       "   is_genuine  diagonal  height_left  height_right  margin_low  margin_up  \\\n",
       "0           1 171.81000    104.86000     104.95000     4.52000    2.89000   \n",
       "1           1 171.46000    103.36000     103.66000     3.77000    2.99000   \n",
       "2           1 172.69000    104.48000     103.50000     4.40000    2.94000   \n",
       "3           1 171.36000    103.91000     103.94000     3.62000    3.01000   \n",
       "4           1 171.73000    104.28000     103.46000     4.04000    3.48000   \n",
       "\n",
       "     length  \n",
       "0 112.83000  \n",
       "1 113.09000  \n",
       "2 113.16000  \n",
       "3 113.51000  \n",
       "4 112.54000  "
      ]
     },
     "execution_count": 31,
     "metadata": {},
     "output_type": "execute_result"
    }
   ],
   "source": [
    "billets.head()"
   ]
  },
  {
   "cell_type": "markdown",
   "metadata": {},
   "source": [
    "# <a name=\"C31\"> Remplacement des valeurs colonne is_genuine"
   ]
  },
  {
   "cell_type": "code",
   "execution_count": 32,
   "metadata": {},
   "outputs": [
    {
     "data": {
      "text/html": [
       "<div>\n",
       "<style scoped>\n",
       "    .dataframe tbody tr th:only-of-type {\n",
       "        vertical-align: middle;\n",
       "    }\n",
       "\n",
       "    .dataframe tbody tr th {\n",
       "        vertical-align: top;\n",
       "    }\n",
       "\n",
       "    .dataframe thead th {\n",
       "        text-align: right;\n",
       "    }\n",
       "</style>\n",
       "<table border=\"1\" class=\"dataframe\">\n",
       "  <thead>\n",
       "    <tr style=\"text-align: right;\">\n",
       "      <th></th>\n",
       "      <th>is_genuine</th>\n",
       "      <th>diagonal</th>\n",
       "      <th>height_left</th>\n",
       "      <th>height_right</th>\n",
       "      <th>margin_low</th>\n",
       "      <th>margin_up</th>\n",
       "      <th>length</th>\n",
       "    </tr>\n",
       "  </thead>\n",
       "  <tbody>\n",
       "    <tr>\n",
       "      <th>0</th>\n",
       "      <td>1</td>\n",
       "      <td>171.81000</td>\n",
       "      <td>104.86000</td>\n",
       "      <td>104.95000</td>\n",
       "      <td>4.52000</td>\n",
       "      <td>2.89000</td>\n",
       "      <td>112.83000</td>\n",
       "    </tr>\n",
       "    <tr>\n",
       "      <th>1</th>\n",
       "      <td>1</td>\n",
       "      <td>171.46000</td>\n",
       "      <td>103.36000</td>\n",
       "      <td>103.66000</td>\n",
       "      <td>3.77000</td>\n",
       "      <td>2.99000</td>\n",
       "      <td>113.09000</td>\n",
       "    </tr>\n",
       "    <tr>\n",
       "      <th>2</th>\n",
       "      <td>1</td>\n",
       "      <td>172.69000</td>\n",
       "      <td>104.48000</td>\n",
       "      <td>103.50000</td>\n",
       "      <td>4.40000</td>\n",
       "      <td>2.94000</td>\n",
       "      <td>113.16000</td>\n",
       "    </tr>\n",
       "    <tr>\n",
       "      <th>3</th>\n",
       "      <td>1</td>\n",
       "      <td>171.36000</td>\n",
       "      <td>103.91000</td>\n",
       "      <td>103.94000</td>\n",
       "      <td>3.62000</td>\n",
       "      <td>3.01000</td>\n",
       "      <td>113.51000</td>\n",
       "    </tr>\n",
       "    <tr>\n",
       "      <th>4</th>\n",
       "      <td>1</td>\n",
       "      <td>171.73000</td>\n",
       "      <td>104.28000</td>\n",
       "      <td>103.46000</td>\n",
       "      <td>4.04000</td>\n",
       "      <td>3.48000</td>\n",
       "      <td>112.54000</td>\n",
       "    </tr>\n",
       "  </tbody>\n",
       "</table>\n",
       "</div>"
      ],
      "text/plain": [
       "   is_genuine  diagonal  height_left  height_right  margin_low  margin_up  \\\n",
       "0           1 171.81000    104.86000     104.95000     4.52000    2.89000   \n",
       "1           1 171.46000    103.36000     103.66000     3.77000    2.99000   \n",
       "2           1 172.69000    104.48000     103.50000     4.40000    2.94000   \n",
       "3           1 171.36000    103.91000     103.94000     3.62000    3.01000   \n",
       "4           1 171.73000    104.28000     103.46000     4.04000    3.48000   \n",
       "\n",
       "     length  \n",
       "0 112.83000  \n",
       "1 113.09000  \n",
       "2 113.16000  \n",
       "3 113.51000  \n",
       "4 112.54000  "
      ]
     },
     "execution_count": 32,
     "metadata": {},
     "output_type": "execute_result"
    }
   ],
   "source": [
    "billets[\"is_genuine\"] = billets[\"is_genuine\"].astype(int)\n",
    "billets.head()"
   ]
  },
  {
   "cell_type": "markdown",
   "metadata": {},
   "source": [
    "# <a name=\"C3\">Première analyse des variables"
   ]
  },
  {
   "cell_type": "markdown",
   "metadata": {},
   "source": [
    "## Taux de données manquantes"
   ]
  },
  {
   "cell_type": "code",
   "execution_count": 5,
   "metadata": {},
   "outputs": [
    {
     "data": {
      "text/plain": [
       "is_genuine     0.00000\n",
       "diagonal       0.00000\n",
       "height_left    0.00000\n",
       "height_right   0.00000\n",
       "margin_low     2.46667\n",
       "margin_up      0.00000\n",
       "length         0.00000\n",
       "dtype: float64"
      ]
     },
     "execution_count": 5,
     "metadata": {},
     "output_type": "execute_result"
    }
   ],
   "source": [
    "tx = (billets.isna().sum()/len(billets))*100\n",
    "tx"
   ]
  },
  {
   "cell_type": "markdown",
   "metadata": {},
   "source": [
    "Les données manquantes sont toutes dans la variable margin_low."
   ]
  },
  {
   "cell_type": "markdown",
   "metadata": {},
   "source": [
    "## Nombre de vrais et faux billets"
   ]
  },
  {
   "cell_type": "code",
   "execution_count": 6,
   "metadata": {},
   "outputs": [
    {
     "data": {
      "text/plain": [
       "1    1000\n",
       "0     500\n",
       "Name: is_genuine, dtype: int64"
      ]
     },
     "execution_count": 6,
     "metadata": {},
     "output_type": "execute_result"
    }
   ],
   "source": [
    "billets['is_genuine'].value_counts()"
   ]
  },
  {
   "cell_type": "markdown",
   "metadata": {},
   "source": [
    "## Histogrammes"
   ]
  },
  {
   "cell_type": "code",
   "execution_count": 7,
   "metadata": {},
   "outputs": [
    {
     "data": {
      "image/png": "[encoded data removed]",
      "text/plain": [
       "<Figure size 1080x720 with 9 Axes>"
      ]
     },
     "metadata": {
      "needs_background": "light"
     },
     "output_type": "display_data"
    }
   ],
   "source": [
    "billets.hist(figsize=(15, 10));"
   ]
  },
  {
   "cell_type": "markdown",
   "metadata": {},
   "source": [
    "Distribution normale, avec une distribution aplatie sur la droite pour margin_low et sur la gauche pour length."
   ]
  },
  {
   "cell_type": "markdown",
   "metadata": {},
   "source": [
    "## Statistiques descriptives"
   ]
  },
  {
   "cell_type": "code",
   "execution_count": 8,
   "metadata": {},
   "outputs": [
    {
     "data": {
      "text/html": [
       "<div>\n",
       "<style scoped>\n",
       "    .dataframe tbody tr th:only-of-type {\n",
       "        vertical-align: middle;\n",
       "    }\n",
       "\n",
       "    .dataframe tbody tr th {\n",
       "        vertical-align: top;\n",
       "    }\n",
       "\n",
       "    .dataframe thead th {\n",
       "        text-align: right;\n",
       "    }\n",
       "</style>\n",
       "<table border=\"1\" class=\"dataframe\">\n",
       "  <thead>\n",
       "    <tr style=\"text-align: right;\">\n",
       "      <th></th>\n",
       "      <th>is_genuine</th>\n",
       "      <th>diagonal</th>\n",
       "      <th>height_left</th>\n",
       "      <th>height_right</th>\n",
       "      <th>margin_low</th>\n",
       "      <th>margin_up</th>\n",
       "      <th>length</th>\n",
       "    </tr>\n",
       "  </thead>\n",
       "  <tbody>\n",
       "    <tr>\n",
       "      <th>count</th>\n",
       "      <td>1500.00000</td>\n",
       "      <td>1500.00000</td>\n",
       "      <td>1500.00000</td>\n",
       "      <td>1500.00000</td>\n",
       "      <td>1463.00000</td>\n",
       "      <td>1500.00000</td>\n",
       "      <td>1500.00000</td>\n",
       "    </tr>\n",
       "    <tr>\n",
       "      <th>mean</th>\n",
       "      <td>0.66667</td>\n",
       "      <td>171.95844</td>\n",
       "      <td>104.02953</td>\n",
       "      <td>103.92031</td>\n",
       "      <td>4.48597</td>\n",
       "      <td>3.15147</td>\n",
       "      <td>112.67850</td>\n",
       "    </tr>\n",
       "    <tr>\n",
       "      <th>std</th>\n",
       "      <td>0.47156</td>\n",
       "      <td>0.30520</td>\n",
       "      <td>0.29946</td>\n",
       "      <td>0.32563</td>\n",
       "      <td>0.66381</td>\n",
       "      <td>0.23181</td>\n",
       "      <td>0.87273</td>\n",
       "    </tr>\n",
       "    <tr>\n",
       "      <th>min</th>\n",
       "      <td>0.00000</td>\n",
       "      <td>171.04000</td>\n",
       "      <td>103.14000</td>\n",
       "      <td>102.82000</td>\n",
       "      <td>2.98000</td>\n",
       "      <td>2.27000</td>\n",
       "      <td>109.49000</td>\n",
       "    </tr>\n",
       "    <tr>\n",
       "      <th>25%</th>\n",
       "      <td>0.00000</td>\n",
       "      <td>171.75000</td>\n",
       "      <td>103.82000</td>\n",
       "      <td>103.71000</td>\n",
       "      <td>4.01500</td>\n",
       "      <td>2.99000</td>\n",
       "      <td>112.03000</td>\n",
       "    </tr>\n",
       "    <tr>\n",
       "      <th>50%</th>\n",
       "      <td>1.00000</td>\n",
       "      <td>171.96000</td>\n",
       "      <td>104.04000</td>\n",
       "      <td>103.92000</td>\n",
       "      <td>4.31000</td>\n",
       "      <td>3.14000</td>\n",
       "      <td>112.96000</td>\n",
       "    </tr>\n",
       "    <tr>\n",
       "      <th>75%</th>\n",
       "      <td>1.00000</td>\n",
       "      <td>172.17000</td>\n",
       "      <td>104.23000</td>\n",
       "      <td>104.15000</td>\n",
       "      <td>4.87000</td>\n",
       "      <td>3.31000</td>\n",
       "      <td>113.34000</td>\n",
       "    </tr>\n",
       "    <tr>\n",
       "      <th>max</th>\n",
       "      <td>1.00000</td>\n",
       "      <td>173.01000</td>\n",
       "      <td>104.88000</td>\n",
       "      <td>104.95000</td>\n",
       "      <td>6.90000</td>\n",
       "      <td>3.91000</td>\n",
       "      <td>114.44000</td>\n",
       "    </tr>\n",
       "  </tbody>\n",
       "</table>\n",
       "</div>"
      ],
      "text/plain": [
       "       is_genuine   diagonal  height_left  height_right  margin_low  \\\n",
       "count  1500.00000 1500.00000   1500.00000    1500.00000  1463.00000   \n",
       "mean      0.66667  171.95844    104.02953     103.92031     4.48597   \n",
       "std       0.47156    0.30520      0.29946       0.32563     0.66381   \n",
       "min       0.00000  171.04000    103.14000     102.82000     2.98000   \n",
       "25%       0.00000  171.75000    103.82000     103.71000     4.01500   \n",
       "50%       1.00000  171.96000    104.04000     103.92000     4.31000   \n",
       "75%       1.00000  172.17000    104.23000     104.15000     4.87000   \n",
       "max       1.00000  173.01000    104.88000     104.95000     6.90000   \n",
       "\n",
       "       margin_up     length  \n",
       "count 1500.00000 1500.00000  \n",
       "mean     3.15147  112.67850  \n",
       "std      0.23181    0.87273  \n",
       "min      2.27000  109.49000  \n",
       "25%      2.99000  112.03000  \n",
       "50%      3.14000  112.96000  \n",
       "75%      3.31000  113.34000  \n",
       "max      3.91000  114.44000  "
      ]
     },
     "execution_count": 8,
     "metadata": {},
     "output_type": "execute_result"
    }
   ],
   "source": [
    "billets.describe()"
   ]
  },
  {
   "cell_type": "markdown",
   "metadata": {},
   "source": [
    "## Dispersion des données"
   ]
  },
  {
   "cell_type": "code",
   "execution_count": 9,
   "metadata": {},
   "outputs": [
    {
     "data": {
      "image/png": "[encoded data removed]",
      "text/plain": [
       "<Figure size 432x288 with 1 Axes>"
      ]
     },
     "metadata": {
      "needs_background": "light"
     },
     "output_type": "display_data"
    }
   ],
   "source": [
    "ax = sns.boxplot(x=\"is_genuine\", y=\"diagonal\", data=billets)"
   ]
  },
  {
   "cell_type": "code",
   "execution_count": 10,
   "metadata": {},
   "outputs": [
    {
     "data": {
      "image/png": "[encoded data removed]",
      "text/plain": [
       "<Figure size 432x288 with 1 Axes>"
      ]
     },
     "metadata": {
      "needs_background": "light"
     },
     "output_type": "display_data"
    }
   ],
   "source": [
    "ax = sns.boxplot(x=\"is_genuine\", y=\"height_left\", data=billets)"
   ]
  },
  {
   "cell_type": "code",
   "execution_count": 11,
   "metadata": {},
   "outputs": [
    {
     "data": {
      "image/png": "[encoded data removed]",
      "text/plain": [
       "<Figure size 432x288 with 1 Axes>"
      ]
     },
     "metadata": {
      "needs_background": "light"
     },
     "output_type": "display_data"
    }
   ],
   "source": [
    "ax = sns.boxplot(x=\"is_genuine\", y=\"height_right\", data=billets)"
   ]
  },
  {
   "cell_type": "code",
   "execution_count": 12,
   "metadata": {},
   "outputs": [
    {
     "data": {
      "image/png": "[encoded data removed]",
      "text/plain": [
       "<Figure size 432x288 with 1 Axes>"
      ]
     },
     "metadata": {
      "needs_background": "light"
     },
     "output_type": "display_data"
    }
   ],
   "source": [
    "ax = sns.boxplot(x=\"is_genuine\", y=\"margin_low\", data=billets)"
   ]
  },
  {
   "cell_type": "code",
   "execution_count": 13,
   "metadata": {},
   "outputs": [
    {
     "data": {
      "image/png": "[encoded data removed]",
      "text/plain": [
       "<Figure size 432x288 with 1 Axes>"
      ]
     },
     "metadata": {
      "needs_background": "light"
     },
     "output_type": "display_data"
    }
   ],
   "source": [
    "ax = sns.boxplot(x=\"is_genuine\", y=\"margin_up\", data=billets)"
   ]
  },
  {
   "cell_type": "code",
   "execution_count": 14,
   "metadata": {},
   "outputs": [
    {
     "data": {
      "image/png": "[encoded data removed]",
      "text/plain": [
       "<Figure size 432x288 with 1 Axes>"
      ]
     },
     "metadata": {
      "needs_background": "light"
     },
     "output_type": "display_data"
    }
   ],
   "source": [
    "ax = sns.boxplot(x=\"is_genuine\", y=\"length\", data=billets)"
   ]
  },
  {
   "cell_type": "markdown",
   "metadata": {},
   "source": [
    "## Matrice de corrélation"
   ]
  },
  {
   "cell_type": "code",
   "execution_count": 15,
   "metadata": {},
   "outputs": [
    {
     "data": {
      "image/png": "[encoded data removed]",
      "text/plain": [
       "<Figure size 720x360 with 2 Axes>"
      ]
     },
     "metadata": {
      "needs_background": "light"
     },
     "output_type": "display_data"
    }
   ],
   "source": [
    "# Calcul de la matrice de corrélation\n",
    "corr = billets.corr()\n",
    "\n",
    "# Parématrage de la taille du graphique\n",
    "fig_dims = (10, 5)\n",
    "fig, ax = plt.subplots(figsize=fig_dims)\n",
    "\n",
    "# plot the heatmap and annotation on it\n",
    "sns.heatmap(corr, xticklabels=corr.columns, yticklabels=corr.columns, annot=True, cmap=\"bwr\")\n",
    "plt.show()"
   ]
  },
  {
   "cell_type": "markdown",
   "metadata": {},
   "source": [
    "Is_genuine est fortement corrélé à la longueur du billet et anti-corrélé (entre -0.38 et -0.78 pour margin_low) aux hauteurs et aux marges.\n",
    "\n",
    "Plus le billet est long plus il a des chances d'être un vrai, plus les hauteurs et les marges sont petites, plus le billet a des chances d'être vrai."
   ]
  },
  {
   "cell_type": "markdown",
   "metadata": {},
   "source": [
    "# <a name=\"C4\">Remplacement des valeurs manquantes avec une régression linéaire multiple (backward selection)"
   ]
  },
  {
   "cell_type": "markdown",
   "metadata": {},
   "source": [
    "On cherche à prédire la valeur de margin_low en fonction des autres variables."
   ]
  },
  {
   "cell_type": "code",
   "execution_count": 16,
   "metadata": {},
   "outputs": [],
   "source": [
    "# Isolation des lignes sans valeur manquante\n",
    "billets1 = billets.dropna()\n",
    "# Suppression de la colonne is genuine\n",
    "billets1 = billets1.drop(columns='is_genuine')"
   ]
  },
  {
   "cell_type": "code",
   "execution_count": 17,
   "metadata": {},
   "outputs": [
    {
     "name": "stdout",
     "output_type": "stream",
     "text": [
      "_______________________________\n",
      "margin_low ~ height_right + diagonal + length + margin_up + height_left + 1\n",
      "is the final model !\n",
      "\n",
      "                            OLS Regression Results                            \n",
      "==============================================================================\n",
      "Dep. Variable:             margin_low   R-squared:                       0.477\n",
      "Model:                            OLS   Adj. R-squared:                  0.476\n",
      "Method:                 Least Squares   F-statistic:                     266.1\n",
      "Date:                Mon, 11 Jul 2022   Prob (F-statistic):          2.60e-202\n",
      "Time:                        08:34:01   Log-Likelihood:                -1001.3\n",
      "No. Observations:                1463   AIC:                             2015.\n",
      "Df Residuals:                    1457   BIC:                             2046.\n",
      "Df Model:                           5                                         \n",
      "Covariance Type:            nonrobust                                         \n",
      "================================================================================\n",
      "                   coef    std err          t      P>|t|      [0.025      0.975]\n",
      "--------------------------------------------------------------------------------\n",
      "Intercept       22.9948      9.656      2.382      0.017       4.055      41.935\n",
      "height_right     0.2571      0.043      5.978      0.000       0.173       0.342\n",
      "diagonal        -0.1111      0.041     -2.680      0.007      -0.192      -0.030\n",
      "length          -0.4091      0.018    -22.627      0.000      -0.445      -0.374\n",
      "margin_up        0.2562      0.064      3.980      0.000       0.130       0.382\n",
      "height_left      0.1841      0.045      4.113      0.000       0.096       0.272\n",
      "==============================================================================\n",
      "Omnibus:                       73.627   Durbin-Watson:                   1.893\n",
      "Prob(Omnibus):                  0.000   Jarque-Bera (JB):               95.862\n",
      "Skew:                           0.482   Prob(JB):                     1.53e-21\n",
      "Kurtosis:                       3.801   Cond. No.                     1.94e+05\n",
      "==============================================================================\n",
      "\n",
      "Notes:\n",
      "[1] Standard Errors assume that the covariance matrix of the errors is correctly specified.\n",
      "[2] The condition number is large, 1.94e+05. This might indicate that there are\n",
      "strong multicollinearity or other numerical problems.\n"
     ]
    }
   ],
   "source": [
    "# Régression linéaire multiple (backward selection)\n",
    "reg_backward = backward_selected(billets1, 'margin_low')"
   ]
  },
  {
   "cell_type": "markdown",
   "metadata": {},
   "source": [
    "### Multi colinéarité\n",
    "source : https://larmarange.github.io/analyse-R/multicolinearite.html)\n",
    "Une multicolinéarité prononcée s’avère problématique, car elle peut augmenter la variance des coefficients de régression et les rendre instables et difficiles à interpréter. Les conséquences de coefficients instables peuvent être les suivantes :\n",
    "\n",
    "- les coefficients peuvent sembler non significatifs, même lorsqu’une relation significative existe entre le prédicteur et la réponse ;\n",
    "- les coefficients de prédicteurs fortement corrélés varieront considérablement d’un échantillon à un autre ;\n",
    "- lorsque des termes d’un modèle sont fortement corrélés, la suppression de l’un de ces termes aura une incidence considérable sur les coefficients estimés des autres. Les coefficients des termes fortement corrélés peuvent même présenter le mauvais signe.\n",
    "##### La multicolinéarité n’a aucune incidence sur l’adéquation de l’ajustement, ni sur la qualité de la prévision. Cependant, les coefficients individuels associés à chaque variable explicative ne peuvent pas être interprétés de façon fiable.\n",
    "\n",
    "### R-squared = 0.476"
   ]
  },
  {
   "cell_type": "code",
   "execution_count": 18,
   "metadata": {},
   "outputs": [],
   "source": [
    "# Calcul de la prédiction obtenue\n",
    "billets1['verif'] = 22.9948-0.1111*billets1['diagonal']+0.1841*billets1['height_left']\\\n",
    "                    +0.2571*billets1['height_right']+0.2562*billets1['margin_up']-0.4091*billets1['length']"
   ]
  },
  {
   "cell_type": "code",
   "execution_count": 19,
   "metadata": {},
   "outputs": [],
   "source": [
    "# comparaison vraie donnée - prédiction\n",
    "billets1['comparaison'] = billets1['margin_low']-billets1['verif']"
   ]
  },
  {
   "cell_type": "code",
   "execution_count": 20,
   "metadata": {},
   "outputs": [
    {
     "data": {
      "text/plain": [
       "count   1463.00000\n",
       "mean       0.01288\n",
       "std        0.47991\n",
       "min       -1.45945\n",
       "25%       -0.30419\n",
       "50%       -0.02880\n",
       "75%        0.28642\n",
       "max        1.98371\n",
       "Name: comparaison, dtype: float64"
      ]
     },
     "execution_count": 20,
     "metadata": {},
     "output_type": "execute_result"
    }
   ],
   "source": [
    "# Description variable comparaison\n",
    "billets1['comparaison'].describe()"
   ]
  },
  {
   "cell_type": "code",
   "execution_count": 21,
   "metadata": {},
   "outputs": [
    {
     "data": {
      "image/png": "[encoded data removed]",
      "text/plain": [
       "<Figure size 432x288 with 1 Axes>"
      ]
     },
     "metadata": {
      "needs_background": "light"
     },
     "output_type": "display_data"
    }
   ],
   "source": [
    "# Dispersion variable comparaison\n",
    "ax = sns.boxplot(y=\"comparaison\", data=billets1)"
   ]
  },
  {
   "cell_type": "code",
   "execution_count": 22,
   "metadata": {},
   "outputs": [],
   "source": [
    "# Remplacement des NaN dans le dataset d'origine par la prédiction\n",
    "\n",
    "# Isolation des lignes avec NaN\n",
    "nan = billets[billets['margin_low'].isna()]\n",
    "\n",
    "# remplacement nan par prédiction\n",
    "nan['margin_low'] = 22.9948-0.1111*nan['diagonal']+0.1841*nan['height_left']\\\n",
    "                    +0.2571*nan['height_right']+0.2562*nan['margin_up']-0.4091*nan['length']"
   ]
  },
  {
   "cell_type": "code",
   "execution_count": 23,
   "metadata": {},
   "outputs": [
    {
     "data": {
      "text/html": [
       "<div>\n",
       "<style scoped>\n",
       "    .dataframe tbody tr th:only-of-type {\n",
       "        vertical-align: middle;\n",
       "    }\n",
       "\n",
       "    .dataframe tbody tr th {\n",
       "        vertical-align: top;\n",
       "    }\n",
       "\n",
       "    .dataframe thead th {\n",
       "        text-align: right;\n",
       "    }\n",
       "</style>\n",
       "<table border=\"1\" class=\"dataframe\">\n",
       "  <thead>\n",
       "    <tr style=\"text-align: right;\">\n",
       "      <th></th>\n",
       "      <th>is_genuine</th>\n",
       "      <th>diagonal</th>\n",
       "      <th>height_left</th>\n",
       "      <th>height_right</th>\n",
       "      <th>margin_low</th>\n",
       "      <th>margin_up</th>\n",
       "      <th>length</th>\n",
       "    </tr>\n",
       "  </thead>\n",
       "  <tbody>\n",
       "    <tr>\n",
       "      <th>72</th>\n",
       "      <td>1</td>\n",
       "      <td>171.94000</td>\n",
       "      <td>103.89000</td>\n",
       "      <td>103.45000</td>\n",
       "      <td>4.30567</td>\n",
       "      <td>3.25000</td>\n",
       "      <td>112.79000</td>\n",
       "    </tr>\n",
       "    <tr>\n",
       "      <th>99</th>\n",
       "      <td>1</td>\n",
       "      <td>171.93000</td>\n",
       "      <td>104.07000</td>\n",
       "      <td>104.18000</td>\n",
       "      <td>4.38078</td>\n",
       "      <td>3.14000</td>\n",
       "      <td>113.08000</td>\n",
       "    </tr>\n",
       "    <tr>\n",
       "      <th>151</th>\n",
       "      <td>1</td>\n",
       "      <td>172.07000</td>\n",
       "      <td>103.80000</td>\n",
       "      <td>104.38000</td>\n",
       "      <td>4.39756</td>\n",
       "      <td>3.02000</td>\n",
       "      <td>112.93000</td>\n",
       "    </tr>\n",
       "    <tr>\n",
       "      <th>197</th>\n",
       "      <td>1</td>\n",
       "      <td>171.45000</td>\n",
       "      <td>103.66000</td>\n",
       "      <td>103.80000</td>\n",
       "      <td>4.30618</td>\n",
       "      <td>3.62000</td>\n",
       "      <td>113.27000</td>\n",
       "    </tr>\n",
       "    <tr>\n",
       "      <th>241</th>\n",
       "      <td>1</td>\n",
       "      <td>171.83000</td>\n",
       "      <td>104.14000</td>\n",
       "      <td>104.06000</td>\n",
       "      <td>4.63774</td>\n",
       "      <td>3.02000</td>\n",
       "      <td>112.36000</td>\n",
       "    </tr>\n",
       "  </tbody>\n",
       "</table>\n",
       "</div>"
      ],
      "text/plain": [
       "     is_genuine  diagonal  height_left  height_right  margin_low  margin_up  \\\n",
       "72            1 171.94000    103.89000     103.45000     4.30567    3.25000   \n",
       "99            1 171.93000    104.07000     104.18000     4.38078    3.14000   \n",
       "151           1 172.07000    103.80000     104.38000     4.39756    3.02000   \n",
       "197           1 171.45000    103.66000     103.80000     4.30618    3.62000   \n",
       "241           1 171.83000    104.14000     104.06000     4.63774    3.02000   \n",
       "\n",
       "       length  \n",
       "72  112.79000  \n",
       "99  113.08000  \n",
       "151 112.93000  \n",
       "197 113.27000  \n",
       "241 112.36000  "
      ]
     },
     "execution_count": 23,
     "metadata": {},
     "output_type": "execute_result"
    }
   ],
   "source": [
    "nan.head()"
   ]
  },
  {
   "cell_type": "code",
   "execution_count": 24,
   "metadata": {},
   "outputs": [],
   "source": [
    "# Isolation des lignes sans valeur manquante\n",
    "billets1 = billets.dropna()"
   ]
  },
  {
   "cell_type": "code",
   "execution_count": 25,
   "metadata": {},
   "outputs": [],
   "source": [
    "# Rajout des lignes avec prédiction sur margin_low dans le dataset\n",
    "billets2 = billets1.append(nan)"
   ]
  },
  {
   "cell_type": "code",
   "execution_count": 26,
   "metadata": {},
   "outputs": [
    {
     "data": {
      "text/plain": [
       "1500"
      ]
     },
     "execution_count": 26,
     "metadata": {},
     "output_type": "execute_result"
    }
   ],
   "source": [
    "len(billets2)"
   ]
  },
  {
   "cell_type": "code",
   "execution_count": 27,
   "metadata": {
    "scrolled": false
   },
   "outputs": [
    {
     "data": {
      "text/html": [
       "<div>\n",
       "<style scoped>\n",
       "    .dataframe tbody tr th:only-of-type {\n",
       "        vertical-align: middle;\n",
       "    }\n",
       "\n",
       "    .dataframe tbody tr th {\n",
       "        vertical-align: top;\n",
       "    }\n",
       "\n",
       "    .dataframe thead th {\n",
       "        text-align: right;\n",
       "    }\n",
       "</style>\n",
       "<table border=\"1\" class=\"dataframe\">\n",
       "  <thead>\n",
       "    <tr style=\"text-align: right;\">\n",
       "      <th></th>\n",
       "      <th>is_genuine</th>\n",
       "      <th>diagonal</th>\n",
       "      <th>height_left</th>\n",
       "      <th>height_right</th>\n",
       "      <th>margin_low</th>\n",
       "      <th>margin_up</th>\n",
       "      <th>length</th>\n",
       "    </tr>\n",
       "  </thead>\n",
       "  <tbody>\n",
       "    <tr>\n",
       "      <th>0</th>\n",
       "      <td>1</td>\n",
       "      <td>171.81000</td>\n",
       "      <td>104.86000</td>\n",
       "      <td>104.95000</td>\n",
       "      <td>4.52000</td>\n",
       "      <td>2.89000</td>\n",
       "      <td>112.83000</td>\n",
       "    </tr>\n",
       "    <tr>\n",
       "      <th>1</th>\n",
       "      <td>1</td>\n",
       "      <td>171.46000</td>\n",
       "      <td>103.36000</td>\n",
       "      <td>103.66000</td>\n",
       "      <td>3.77000</td>\n",
       "      <td>2.99000</td>\n",
       "      <td>113.09000</td>\n",
       "    </tr>\n",
       "    <tr>\n",
       "      <th>2</th>\n",
       "      <td>1</td>\n",
       "      <td>172.69000</td>\n",
       "      <td>104.48000</td>\n",
       "      <td>103.50000</td>\n",
       "      <td>4.40000</td>\n",
       "      <td>2.94000</td>\n",
       "      <td>113.16000</td>\n",
       "    </tr>\n",
       "    <tr>\n",
       "      <th>3</th>\n",
       "      <td>1</td>\n",
       "      <td>171.36000</td>\n",
       "      <td>103.91000</td>\n",
       "      <td>103.94000</td>\n",
       "      <td>3.62000</td>\n",
       "      <td>3.01000</td>\n",
       "      <td>113.51000</td>\n",
       "    </tr>\n",
       "    <tr>\n",
       "      <th>4</th>\n",
       "      <td>1</td>\n",
       "      <td>171.73000</td>\n",
       "      <td>104.28000</td>\n",
       "      <td>103.46000</td>\n",
       "      <td>4.04000</td>\n",
       "      <td>3.48000</td>\n",
       "      <td>112.54000</td>\n",
       "    </tr>\n",
       "  </tbody>\n",
       "</table>\n",
       "</div>"
      ],
      "text/plain": [
       "   is_genuine  diagonal  height_left  height_right  margin_low  margin_up  \\\n",
       "0           1 171.81000    104.86000     104.95000     4.52000    2.89000   \n",
       "1           1 171.46000    103.36000     103.66000     3.77000    2.99000   \n",
       "2           1 172.69000    104.48000     103.50000     4.40000    2.94000   \n",
       "3           1 171.36000    103.91000     103.94000     3.62000    3.01000   \n",
       "4           1 171.73000    104.28000     103.46000     4.04000    3.48000   \n",
       "\n",
       "     length  \n",
       "0 112.83000  \n",
       "1 113.09000  \n",
       "2 113.16000  \n",
       "3 113.51000  \n",
       "4 112.54000  "
      ]
     },
     "execution_count": 27,
     "metadata": {},
     "output_type": "execute_result"
    }
   ],
   "source": [
    "billets2.head()"
   ]
  },
  {
   "cell_type": "code",
   "execution_count": 28,
   "metadata": {},
   "outputs": [
    {
     "data": {
      "text/html": [
       "<div>\n",
       "<style scoped>\n",
       "    .dataframe tbody tr th:only-of-type {\n",
       "        vertical-align: middle;\n",
       "    }\n",
       "\n",
       "    .dataframe tbody tr th {\n",
       "        vertical-align: top;\n",
       "    }\n",
       "\n",
       "    .dataframe thead th {\n",
       "        text-align: right;\n",
       "    }\n",
       "</style>\n",
       "<table border=\"1\" class=\"dataframe\">\n",
       "  <thead>\n",
       "    <tr style=\"text-align: right;\">\n",
       "      <th></th>\n",
       "      <th>is_genuine</th>\n",
       "      <th>diagonal</th>\n",
       "      <th>height_left</th>\n",
       "      <th>height_right</th>\n",
       "      <th>margin_low</th>\n",
       "      <th>margin_up</th>\n",
       "      <th>length</th>\n",
       "    </tr>\n",
       "  </thead>\n",
       "  <tbody>\n",
       "  </tbody>\n",
       "</table>\n",
       "</div>"
      ],
      "text/plain": [
       "Empty DataFrame\n",
       "Columns: [is_genuine, diagonal, height_left, height_right, margin_low, margin_up, length]\n",
       "Index: []"
      ]
     },
     "execution_count": 28,
     "metadata": {},
     "output_type": "execute_result"
    }
   ],
   "source": [
    "# Vérification qu'il n'y a plus de NaN\n",
    "billets2[billets2.isnull().any(axis=1)]"
   ]
  },
  {
   "cell_type": "code",
   "execution_count": 29,
   "metadata": {},
   "outputs": [
    {
     "name": "stdout",
     "output_type": "stream",
     "text": [
      "count   1463.00000\n",
      "mean       4.48597\n",
      "std        0.66381\n",
      "min        2.98000\n",
      "25%        4.01500\n",
      "50%        4.31000\n",
      "75%        4.87000\n",
      "max        6.90000\n",
      "Name: margin_low, dtype: float64\n",
      "count   1500.00000\n",
      "mean       4.48316\n",
      "std        0.65968\n",
      "min        2.98000\n",
      "25%        4.02000\n",
      "50%        4.31000\n",
      "75%        4.87000\n",
      "max        6.90000\n",
      "Name: margin_low, dtype: float64\n"
     ]
    }
   ],
   "source": [
    "# Comparaison variable margin_low avant et après imputation des valeurs manquantes\n",
    "\n",
    "\n",
    "print(billets['margin_low'].describe())\n",
    "print(billets2['margin_low'].describe())"
   ]
  },
  {
   "cell_type": "markdown",
   "metadata": {},
   "source": [
    "Quasiment pas de changement (ils portaient sur 2.47% des données à remplacer).\n",
    "- Variation très légère de l'écart-type et de Q1 (premier quartile)"
   ]
  },
  {
   "cell_type": "markdown",
   "metadata": {},
   "source": [
    "# Export du dataset"
   ]
  },
  {
   "cell_type": "code",
   "execution_count": 30,
   "metadata": {},
   "outputs": [],
   "source": [
    "billets2.to_csv('billets2.csv',index=False)"
   ]
  }
 ],
 "metadata": {
  "kernelspec": {
   "display_name": "Python 3",
   "language": "python",
   "name": "python3"
  },
  "language_info": {
   "codemirror_mode": {
    "name": "ipython",
    "version": 3
   },
   "file_extension": ".py",
   "mimetype": "text/x-python",
   "name": "python",
   "nbconvert_exporter": "python",
   "pygments_lexer": "ipython3",
   "version": "3.8.5"
  }
 },
 "nbformat": 4,
 "nbformat_minor": 4
}
