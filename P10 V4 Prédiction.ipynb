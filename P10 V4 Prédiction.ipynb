{
 "cells": [
  {
   "cell_type": "markdown",
   "metadata": {},
   "source": [
    "# Import des librairies"
   ]
  },
  {
   "cell_type": "code",
   "execution_count": 91,
   "metadata": {},
   "outputs": [],
   "source": [
    "import pandas as pd\n",
    "# output option format of pandas library changed (to not have exponentials)\n",
    "pd.set_option('display.float_format', lambda x: '%.5f' % x)\n",
    "\n",
    "import numpy as np\n",
    "\n",
    "pd.options.display.max_columns = None # pour afficher toutes les colonnes\n",
    "pd.options.display.max_rows = None # pour afficher toutes les lignes\n",
    "\n",
    "import seaborn as sns\n",
    "from matplotlib import pyplot as plt\n",
    "from matplotlib.pyplot import figure\n",
    "from matplotlib.lines import Line2D\n",
    "\n",
    "from sklearn import preprocessing\n",
    "from sklearn import decomposition\n",
    "from sklearn.preprocessing import StandardScaler\n",
    "from sklearn.metrics import silhouette_samples, silhouette_score\n",
    "from sklearn.cluster import KMeans\n",
    "from sklearn import metrics\n",
    "from sklearn.metrics.cluster import normalized_mutual_info_score\n",
    "from sklearn.metrics.cluster import adjusted_mutual_info_score\n",
    "from sklearn.metrics.cluster import fowlkes_mallows_score\n",
    "from sklearn.model_selection import train_test_split\n",
    "\n",
    "import statsmodels.api as sm\n",
    "import statsmodels.formula.api as smf\n",
    "\n",
    "from functions import *\n",
    "from functions2 import *\n",
    "\n",
    "from scipy.cluster.hierarchy import dendrogram\n",
    "from scipy.cluster.hierarchy import linkage, fcluster, centroid\n",
    "\n",
    "\n",
    "import statsmodels.formula.api as smf\n",
    "import statsmodels.api as sm"
   ]
  },
  {
   "cell_type": "markdown",
   "metadata": {},
   "source": [
    "# Import du dataset"
   ]
  },
  {
   "cell_type": "code",
   "execution_count": 92,
   "metadata": {},
   "outputs": [],
   "source": [
    "billets2 = pd.read_csv('billets2.csv')"
   ]
  },
  {
   "cell_type": "code",
   "execution_count": 166,
   "metadata": {
    "scrolled": true
   },
   "outputs": [
    {
     "data": {
      "text/html": [
       "<div>\n",
       "<style scoped>\n",
       "    .dataframe tbody tr th:only-of-type {\n",
       "        vertical-align: middle;\n",
       "    }\n",
       "\n",
       "    .dataframe tbody tr th {\n",
       "        vertical-align: top;\n",
       "    }\n",
       "\n",
       "    .dataframe thead th {\n",
       "        text-align: right;\n",
       "    }\n",
       "</style>\n",
       "<table border=\"1\" class=\"dataframe\">\n",
       "  <thead>\n",
       "    <tr style=\"text-align: right;\">\n",
       "      <th></th>\n",
       "      <th>is_genuine</th>\n",
       "      <th>diagonal</th>\n",
       "      <th>height_left</th>\n",
       "      <th>height_right</th>\n",
       "      <th>margin_low</th>\n",
       "      <th>margin_up</th>\n",
       "      <th>length</th>\n",
       "      <th>Clusters_KMeans</th>\n",
       "    </tr>\n",
       "  </thead>\n",
       "  <tbody>\n",
       "    <tr>\n",
       "      <th>0</th>\n",
       "      <td>1</td>\n",
       "      <td>171.81000</td>\n",
       "      <td>104.86000</td>\n",
       "      <td>104.95000</td>\n",
       "      <td>4.52000</td>\n",
       "      <td>2.89000</td>\n",
       "      <td>112.83000</td>\n",
       "      <td>0</td>\n",
       "    </tr>\n",
       "    <tr>\n",
       "      <th>1</th>\n",
       "      <td>1</td>\n",
       "      <td>171.46000</td>\n",
       "      <td>103.36000</td>\n",
       "      <td>103.66000</td>\n",
       "      <td>3.77000</td>\n",
       "      <td>2.99000</td>\n",
       "      <td>113.09000</td>\n",
       "      <td>0</td>\n",
       "    </tr>\n",
       "    <tr>\n",
       "      <th>2</th>\n",
       "      <td>1</td>\n",
       "      <td>172.69000</td>\n",
       "      <td>104.48000</td>\n",
       "      <td>103.50000</td>\n",
       "      <td>4.40000</td>\n",
       "      <td>2.94000</td>\n",
       "      <td>113.16000</td>\n",
       "      <td>0</td>\n",
       "    </tr>\n",
       "    <tr>\n",
       "      <th>3</th>\n",
       "      <td>1</td>\n",
       "      <td>171.36000</td>\n",
       "      <td>103.91000</td>\n",
       "      <td>103.94000</td>\n",
       "      <td>3.62000</td>\n",
       "      <td>3.01000</td>\n",
       "      <td>113.51000</td>\n",
       "      <td>0</td>\n",
       "    </tr>\n",
       "    <tr>\n",
       "      <th>4</th>\n",
       "      <td>1</td>\n",
       "      <td>171.73000</td>\n",
       "      <td>104.28000</td>\n",
       "      <td>103.46000</td>\n",
       "      <td>4.04000</td>\n",
       "      <td>3.48000</td>\n",
       "      <td>112.54000</td>\n",
       "      <td>0</td>\n",
       "    </tr>\n",
       "  </tbody>\n",
       "</table>\n",
       "</div>"
      ],
      "text/plain": [
       "   is_genuine  diagonal  height_left  height_right  margin_low  margin_up  \\\n",
       "0           1 171.81000    104.86000     104.95000     4.52000    2.89000   \n",
       "1           1 171.46000    103.36000     103.66000     3.77000    2.99000   \n",
       "2           1 172.69000    104.48000     103.50000     4.40000    2.94000   \n",
       "3           1 171.36000    103.91000     103.94000     3.62000    3.01000   \n",
       "4           1 171.73000    104.28000     103.46000     4.04000    3.48000   \n",
       "\n",
       "     length  Clusters_KMeans  \n",
       "0 112.83000                0  \n",
       "1 113.09000                0  \n",
       "2 113.16000                0  \n",
       "3 113.51000                0  \n",
       "4 112.54000                0  "
      ]
     },
     "execution_count": 166,
     "metadata": {},
     "output_type": "execute_result"
    }
   ],
   "source": [
    "billets2.head()"
   ]
  },
  {
   "cell_type": "markdown",
   "metadata": {},
   "source": [
    "# ACP"
   ]
  },
  {
   "cell_type": "markdown",
   "metadata": {},
   "source": [
    "## Préparation des données et éboulis de valeurs propres"
   ]
  },
  {
   "cell_type": "code",
   "execution_count": 94,
   "metadata": {
    "scrolled": false
   },
   "outputs": [
    {
     "data": {
      "image/png": "[encoded data removed]",
      "text/plain": [
       "<Figure size 432x288 with 1 Axes>"
      ]
     },
     "metadata": {
      "needs_background": "light"
     },
     "output_type": "display_data"
    },
    {
     "name": "stdout",
     "output_type": "stream",
     "text": [
      "None\n",
      "Pourcentages d'inertie par axe : \n",
      " [71.312555   10.2525804   5.50020789  4.93187076  4.10654269  2.49960448\n",
      "  1.39663876]\n"
     ]
    }
   ],
   "source": [
    "# choix du nombre de composantes à calculer (le nombre de variables)\n",
    "n_comp = 7\n",
    "\n",
    "\n",
    "# Comme objet array ne peut pas garder en mémoire nom des colonnes, on les sauvegarde dans variables\n",
    "features = billets2.columns\n",
    "\n",
    "# # conversion du dataframe en type numpy.array\n",
    "data_pca = billets2\n",
    "X = data_pca.values\n",
    "X\n",
    "\n",
    "# On donne le nb de composants à calculer\n",
    "pca = decomposition.PCA(n_components=n_comp)\n",
    "# Calcul proprement dit\n",
    "pca.fit(X)\n",
    "\n",
    "# Eboulis des valeurs propres\n",
    "print(display_scree_plot(pca))\n",
    "# Pourcentages d'inertie par axe\n",
    "np.set_printoptions(suppress=True)\n",
    "print('Pourcentages d\\'inertie par axe :','\\n',pca.explained_variance_ratio_*100)"
   ]
  },
  {
   "cell_type": "markdown",
   "metadata": {},
   "source": [
    "Les 2 premiers axes d'inertie capturent environ 80% de l'inertie."
   ]
  },
  {
   "cell_type": "code",
   "execution_count": 95,
   "metadata": {},
   "outputs": [
    {
     "data": {
      "text/html": [
       "<div>\n",
       "<style scoped>\n",
       "    .dataframe tbody tr th:only-of-type {\n",
       "        vertical-align: middle;\n",
       "    }\n",
       "\n",
       "    .dataframe tbody tr th {\n",
       "        vertical-align: top;\n",
       "    }\n",
       "\n",
       "    .dataframe thead th {\n",
       "        text-align: right;\n",
       "    }\n",
       "</style>\n",
       "<table border=\"1\" class=\"dataframe\">\n",
       "  <thead>\n",
       "    <tr style=\"text-align: right;\">\n",
       "      <th></th>\n",
       "      <th>0</th>\n",
       "    </tr>\n",
       "  </thead>\n",
       "  <tbody>\n",
       "    <tr>\n",
       "      <th>0</th>\n",
       "      <td>71.31255</td>\n",
       "    </tr>\n",
       "    <tr>\n",
       "      <th>1</th>\n",
       "      <td>81.56514</td>\n",
       "    </tr>\n",
       "    <tr>\n",
       "      <th>2</th>\n",
       "      <td>87.06534</td>\n",
       "    </tr>\n",
       "    <tr>\n",
       "      <th>3</th>\n",
       "      <td>91.99721</td>\n",
       "    </tr>\n",
       "    <tr>\n",
       "      <th>4</th>\n",
       "      <td>96.10376</td>\n",
       "    </tr>\n",
       "    <tr>\n",
       "      <th>5</th>\n",
       "      <td>98.60336</td>\n",
       "    </tr>\n",
       "    <tr>\n",
       "      <th>6</th>\n",
       "      <td>100.00000</td>\n",
       "    </tr>\n",
       "  </tbody>\n",
       "</table>\n",
       "</div>"
      ],
      "text/plain": [
       "          0\n",
       "0  71.31255\n",
       "1  81.56514\n",
       "2  87.06534\n",
       "3  91.99721\n",
       "4  96.10376\n",
       "5  98.60336\n",
       "6 100.00000"
      ]
     },
     "execution_count": 95,
     "metadata": {},
     "output_type": "execute_result"
    }
   ],
   "source": [
    "# Pourcentage de variance expliquée cumulée\n",
    "expl_var_ratio = pd.DataFrame(pca.explained_variance_ratio_*100)\n",
    "expl_var_ratio.cumsum()"
   ]
  },
  {
   "cell_type": "markdown",
   "metadata": {},
   "source": [
    "### Analyse du nombre de composantes à prendre en compte\n",
    "\n",
    "Selon le critère de Kaiser, on ne prend pas en compte les axes dont l'inertie est inférieure à 100/p (où p = nombre de variables) car moins de variabilité qu'une seule variable initiale.\n",
    "Comme 100/7 = 14.28, on doit s'arrêter à 1 axe maximum."
   ]
  },
  {
   "cell_type": "markdown",
   "metadata": {},
   "source": [
    "## Contribution des variables aux composantes principales"
   ]
  },
  {
   "cell_type": "markdown",
   "metadata": {},
   "source": [
    "### Cercle des corrélations F1-F2"
   ]
  },
  {
   "cell_type": "code",
   "execution_count": 96,
   "metadata": {},
   "outputs": [
    {
     "data": {
      "image/png": "[encoded data removed]",
      "text/plain": [
       "<Figure size 504x432 with 1 Axes>"
      ]
     },
     "metadata": {
      "needs_background": "light"
     },
     "output_type": "display_data"
    }
   ],
   "source": [
    "# récupération du calcul des composantes dans nouvelle variable\n",
    "pcs = pca.components_\n",
    "\n",
    "# Transmission à la fonction display_circles du calcul des composantes, du nb de composantes..\n",
    "# ..de l'objet pca, les plans facoriels souhaités et le nom des individus\n",
    "display_circles(pcs, n_comp, pca, [(0,1)], labels = np.array(features))"
   ]
  },
  {
   "cell_type": "markdown",
   "metadata": {},
   "source": [
    "### Analyse de la composition linéaire des axes d'inertie\n",
    "    "
   ]
  },
  {
   "cell_type": "markdown",
   "metadata": {},
   "source": [
    "### combinaison linéaire de F1"
   ]
  },
  {
   "cell_type": "code",
   "execution_count": 97,
   "metadata": {},
   "outputs": [
    {
     "data": {
      "text/html": [
       "<div>\n",
       "<style scoped>\n",
       "    .dataframe tbody tr th:only-of-type {\n",
       "        vertical-align: middle;\n",
       "    }\n",
       "\n",
       "    .dataframe tbody tr th {\n",
       "        vertical-align: top;\n",
       "    }\n",
       "\n",
       "    .dataframe thead th {\n",
       "        text-align: right;\n",
       "    }\n",
       "</style>\n",
       "<table border=\"1\" class=\"dataframe\">\n",
       "  <thead>\n",
       "    <tr style=\"text-align: right;\">\n",
       "      <th></th>\n",
       "      <th>coefficient</th>\n",
       "    </tr>\n",
       "  </thead>\n",
       "  <tbody>\n",
       "    <tr>\n",
       "      <th>margin_low</th>\n",
       "      <td>0.49856</td>\n",
       "    </tr>\n",
       "    <tr>\n",
       "      <th>height_right</th>\n",
       "      <td>0.14036</td>\n",
       "    </tr>\n",
       "    <tr>\n",
       "      <th>margin_up</th>\n",
       "      <td>0.11850</td>\n",
       "    </tr>\n",
       "    <tr>\n",
       "      <th>height_left</th>\n",
       "      <td>0.10209</td>\n",
       "    </tr>\n",
       "    <tr>\n",
       "      <th>diagonal</th>\n",
       "      <td>-0.03314</td>\n",
       "    </tr>\n",
       "    <tr>\n",
       "      <th>is_genuine</th>\n",
       "      <td>-0.39233</td>\n",
       "    </tr>\n",
       "    <tr>\n",
       "      <th>length</th>\n",
       "      <td>-0.74314</td>\n",
       "    </tr>\n",
       "  </tbody>\n",
       "</table>\n",
       "</div>"
      ],
      "text/plain": [
       "              coefficient\n",
       "margin_low        0.49856\n",
       "height_right      0.14036\n",
       "margin_up         0.11850\n",
       "height_left       0.10209\n",
       "diagonal         -0.03314\n",
       "is_genuine       -0.39233\n",
       "length           -0.74314"
      ]
     },
     "execution_count": 97,
     "metadata": {},
     "output_type": "execute_result"
    }
   ],
   "source": [
    "# Extraction des coefficients de corrélation des variables à F1\n",
    "F = pca.components_[0]\n",
    "# Ajout du nom des variables\n",
    "F = pd.DataFrame(F,index=features, columns=['coefficient'])\n",
    "F.sort_values(by='coefficient',ascending=False)"
   ]
  },
  {
   "cell_type": "markdown",
   "metadata": {},
   "source": [
    "### <a name=\"C8252\">combinaison linéaire de F2"
   ]
  },
  {
   "cell_type": "code",
   "execution_count": 98,
   "metadata": {
    "scrolled": false
   },
   "outputs": [
    {
     "data": {
      "text/html": [
       "<div>\n",
       "<style scoped>\n",
       "    .dataframe tbody tr th:only-of-type {\n",
       "        vertical-align: middle;\n",
       "    }\n",
       "\n",
       "    .dataframe tbody tr th {\n",
       "        vertical-align: top;\n",
       "    }\n",
       "\n",
       "    .dataframe thead th {\n",
       "        text-align: right;\n",
       "    }\n",
       "</style>\n",
       "<table border=\"1\" class=\"dataframe\">\n",
       "  <thead>\n",
       "    <tr style=\"text-align: right;\">\n",
       "      <th></th>\n",
       "      <th>coefficient</th>\n",
       "    </tr>\n",
       "  </thead>\n",
       "  <tbody>\n",
       "    <tr>\n",
       "      <th>margin_low</th>\n",
       "      <td>0.80069</td>\n",
       "    </tr>\n",
       "    <tr>\n",
       "      <th>length</th>\n",
       "      <td>0.58777</td>\n",
       "    </tr>\n",
       "    <tr>\n",
       "      <th>height_right</th>\n",
       "      <td>0.07652</td>\n",
       "    </tr>\n",
       "    <tr>\n",
       "      <th>height_left</th>\n",
       "      <td>0.04607</td>\n",
       "    </tr>\n",
       "    <tr>\n",
       "      <th>margin_up</th>\n",
       "      <td>-0.01692</td>\n",
       "    </tr>\n",
       "    <tr>\n",
       "      <th>diagonal</th>\n",
       "      <td>-0.04234</td>\n",
       "    </tr>\n",
       "    <tr>\n",
       "      <th>is_genuine</th>\n",
       "      <td>-0.05801</td>\n",
       "    </tr>\n",
       "  </tbody>\n",
       "</table>\n",
       "</div>"
      ],
      "text/plain": [
       "              coefficient\n",
       "margin_low        0.80069\n",
       "length            0.58777\n",
       "height_right      0.07652\n",
       "height_left       0.04607\n",
       "margin_up        -0.01692\n",
       "diagonal         -0.04234\n",
       "is_genuine       -0.05801"
      ]
     },
     "execution_count": 98,
     "metadata": {},
     "output_type": "execute_result"
    }
   ],
   "source": [
    "# Extraction des coefficients de corrélation des variables à F2\n",
    "F = pca.components_[1]\n",
    "# Ajout du nom des variables\n",
    "F = pd.DataFrame(F,index=features, columns=['coefficient'])\n",
    "F.sort_values(by='coefficient',ascending=False)"
   ]
  },
  {
   "cell_type": "markdown",
   "metadata": {},
   "source": [
    "## <a name=\"C83\">Projection des individus"
   ]
  },
  {
   "cell_type": "code",
   "execution_count": 99,
   "metadata": {
    "scrolled": false
   },
   "outputs": [
    {
     "data": {
      "text/plain": [
       "<matplotlib.legend.Legend at 0x141c74ce070>"
      ]
     },
     "execution_count": 99,
     "metadata": {},
     "output_type": "execute_result"
    },
    {
     "data": {
      "image/png": "[encoded data removed]",
      "text/plain": [
       "<Figure size 432x288 with 1 Axes>"
      ]
     },
     "metadata": {
      "needs_background": "light"
     },
     "output_type": "display_data"
    }
   ],
   "source": [
    "# Affichage des individus par projection des individus sur F1 et F2\n",
    "pca = decomposition.PCA(n_components=7).fit(X)\n",
    "X_projected = pca.transform(X)\n",
    "\n",
    "scatter = plt.scatter(X_projected[:, 0], X_projected[:, 1], cmap = 'jet', alpha=1, c=billets2['is_genuine'])\n",
    "\n",
    "plt.legend(*scatter.legend_elements())"
   ]
  },
  {
   "cell_type": "markdown",
   "metadata": {},
   "source": [
    "### <a name=\"C831\"> Analyse de la contribution de chaque individu aux axes"
   ]
  },
  {
   "cell_type": "code",
   "execution_count": 172,
   "metadata": {},
   "outputs": [],
   "source": [
    "# Contributions aux axes afin de détecter d'éventuelles valeurs extrêmes fuassant l'analyse\n",
    "# Calcul : carré de la distance à l'origine pour chaque individu sur chaque axe..\n",
    "# ..divisé par la variance de l'axe (eigenvalue - valeurs propres) * nombre d'individus\n",
    "\n",
    "# Calcul des valeurs propres\n",
    "eigval = ((1500-1)/1500)*pca.explained_variance_\n",
    "\n",
    "ctr = X_projected**2 # carré de la distance à l'origine pour chaque individu sur chaque axe\n",
    "for row in range(7):\n",
    " ctr[:,row] = ctr[:,row]/(1500*eigval[row])# division par la variance de l'axe*nombre d'individus\n",
    "\n",
    "axe_contribution = pd.DataFrame({'id':billets2.index,'CTR_1':ctr[:,0]})"
   ]
  },
  {
   "cell_type": "code",
   "execution_count": 101,
   "metadata": {
    "scrolled": false
   },
   "outputs": [
    {
     "name": "stdout",
     "output_type": "stream",
     "text": [
      "[1. 1. 1. 1. 1. 1. 1.]\n"
     ]
    }
   ],
   "source": [
    "#vérification (somme des contributions aux axes est censé être égal à 0)\n",
    "print(np.sum(ctr,axis=0))"
   ]
  },
  {
   "cell_type": "markdown",
   "metadata": {},
   "source": [
    "Pour se donner un ordre d'idée, si la contribution était égalitaire entre les individus, elle devrait être à 1/1500=0.000667 soit 0.067%."
   ]
  },
  {
   "cell_type": "markdown",
   "metadata": {},
   "source": [
    "#### <a name=\"C8311\">Contribution à F1"
   ]
  },
  {
   "cell_type": "code",
   "execution_count": 173,
   "metadata": {},
   "outputs": [
    {
     "data": {
      "text/html": [
       "<div>\n",
       "<style scoped>\n",
       "    .dataframe tbody tr th:only-of-type {\n",
       "        vertical-align: middle;\n",
       "    }\n",
       "\n",
       "    .dataframe tbody tr th {\n",
       "        vertical-align: top;\n",
       "    }\n",
       "\n",
       "    .dataframe thead th {\n",
       "        text-align: right;\n",
       "    }\n",
       "</style>\n",
       "<table border=\"1\" class=\"dataframe\">\n",
       "  <thead>\n",
       "    <tr style=\"text-align: right;\">\n",
       "      <th></th>\n",
       "      <th>id</th>\n",
       "      <th>CTR_1</th>\n",
       "    </tr>\n",
       "  </thead>\n",
       "  <tbody>\n",
       "    <tr>\n",
       "      <th>1052</th>\n",
       "      <td>1052</td>\n",
       "      <td>0.00516</td>\n",
       "    </tr>\n",
       "    <tr>\n",
       "      <th>1320</th>\n",
       "      <td>1320</td>\n",
       "      <td>0.00467</td>\n",
       "    </tr>\n",
       "    <tr>\n",
       "      <th>1416</th>\n",
       "      <td>1416</td>\n",
       "      <td>0.00455</td>\n",
       "    </tr>\n",
       "    <tr>\n",
       "      <th>1497</th>\n",
       "      <td>1497</td>\n",
       "      <td>0.00407</td>\n",
       "    </tr>\n",
       "    <tr>\n",
       "      <th>1093</th>\n",
       "      <td>1093</td>\n",
       "      <td>0.00388</td>\n",
       "    </tr>\n",
       "    <tr>\n",
       "      <th>1251</th>\n",
       "      <td>1251</td>\n",
       "      <td>0.00382</td>\n",
       "    </tr>\n",
       "    <tr>\n",
       "      <th>1028</th>\n",
       "      <td>1028</td>\n",
       "      <td>0.00369</td>\n",
       "    </tr>\n",
       "    <tr>\n",
       "      <th>1277</th>\n",
       "      <td>1277</td>\n",
       "      <td>0.00367</td>\n",
       "    </tr>\n",
       "    <tr>\n",
       "      <th>1058</th>\n",
       "      <td>1058</td>\n",
       "      <td>0.00356</td>\n",
       "    </tr>\n",
       "    <tr>\n",
       "      <th>1194</th>\n",
       "      <td>1194</td>\n",
       "      <td>0.00356</td>\n",
       "    </tr>\n",
       "  </tbody>\n",
       "</table>\n",
       "</div>"
      ],
      "text/plain": [
       "        id   CTR_1\n",
       "1052  1052 0.00516\n",
       "1320  1320 0.00467\n",
       "1416  1416 0.00455\n",
       "1497  1497 0.00407\n",
       "1093  1093 0.00388\n",
       "1251  1251 0.00382\n",
       "1028  1028 0.00369\n",
       "1277  1277 0.00367\n",
       "1058  1058 0.00356\n",
       "1194  1194 0.00356"
      ]
     },
     "execution_count": 173,
     "metadata": {},
     "output_type": "execute_result"
    }
   ],
   "source": [
    "axe_contribution.sort_values(by='CTR_1',ascending=False).head(10)"
   ]
  },
  {
   "cell_type": "markdown",
   "metadata": {},
   "source": [
    "# <a name=\"C96\">K Means"
   ]
  },
  {
   "cell_type": "code",
   "execution_count": 103,
   "metadata": {},
   "outputs": [],
   "source": [
    "# Nombre de clusters souhaités\n",
    "n_clust = 2\n",
    "# Clustering par K-means\n",
    "km = KMeans(n_clusters=n_clust)\n",
    "km.fit(X)\n",
    "# Récupération des clusters attribués à chaque individu\n",
    "clusters = km.labels_\n",
    "# Ajout des N° de cluster\n",
    "billets2['Clusters_KMeans'] = clusters"
   ]
  },
  {
   "cell_type": "markdown",
   "metadata": {},
   "source": [
    "### <a name=\"C98\">Nombre de pays par cluster"
   ]
  },
  {
   "cell_type": "code",
   "execution_count": 104,
   "metadata": {},
   "outputs": [
    {
     "data": {
      "text/plain": [
       "Clusters_KMeans\n",
       "0    1009\n",
       "1     491\n",
       "dtype: int64"
      ]
     },
     "execution_count": 104,
     "metadata": {},
     "output_type": "execute_result"
    }
   ],
   "source": [
    "billets2.value_counts('Clusters_KMeans')"
   ]
  },
  {
   "cell_type": "markdown",
   "metadata": {},
   "source": [
    "### <a name=\"C99\">Affichage des clusters sur les plans factoriels"
   ]
  },
  {
   "cell_type": "code",
   "execution_count": 105,
   "metadata": {},
   "outputs": [
    {
     "data": {
      "image/png": "[encoded data removed]",
      "text/plain": [
       "<Figure size 576x576 with 1 Axes>"
      ]
     },
     "metadata": {
      "needs_background": "light"
     },
     "output_type": "display_data"
    }
   ],
   "source": [
    "# Affichage du clustering par projection des individus sur F1 et F2\n",
    "pca = decomposition.PCA(n_components=7).fit(X)\n",
    "X_projected = pca.transform(X)\n",
    "# Scatterplot des clusters\n",
    "scatter = plt.scatter(X_projected[:, 0], X_projected[:, 1], c=billets2['Clusters_KMeans'], cmap = 'jet', alpha=1)\n",
    "# Titre du graphe\n",
    "plt.title(\"Projection des {} individus sur F1 et F2\".format(X_projected.shape[0]))\n",
    "# Légende pour les clusters\n",
    "first_legend = plt.legend(*scatter.legend_elements(),loc=1) # initialisation\n",
    "ax = plt.gca().add_artist(first_legend) # affichage\n",
    "# titre des axes\n",
    "plt.xlabel('F1')\n",
    "plt.ylabel('F2')\n",
    "# Taille du graphe\n",
    "fig = plt.gcf()\n",
    "fig.set_size_inches(8,8)\n",
    "# Scatterplot des centroïdes\n",
    "centroids = km.cluster_centers_\n",
    "centroids_projected = pca.transform(centroids)\n",
    "plt.scatter(centroids_projected[:,0],centroids_projected[:,1], marker = '^', color='red', s=250)\n",
    "# Légénde pour les centroïdes\n",
    "second_legend = [Line2D([0], [0], marker='x', color='red', label='Centroïdes',markersize=15,ls='')] # intitialisation\n",
    "plt.legend(handles=second_legend, loc=2) # affichage\n",
    "\n",
    "plt.show(block=False)"
   ]
  },
  {
   "cell_type": "markdown",
   "metadata": {},
   "source": [
    "### <a name=\"C100\">Moyenne des variables par cluster"
   ]
  },
  {
   "cell_type": "code",
   "execution_count": 106,
   "metadata": {},
   "outputs": [
    {
     "data": {
      "text/html": [
       "<div>\n",
       "<style scoped>\n",
       "    .dataframe tbody tr th:only-of-type {\n",
       "        vertical-align: middle;\n",
       "    }\n",
       "\n",
       "    .dataframe tbody tr th {\n",
       "        vertical-align: top;\n",
       "    }\n",
       "\n",
       "    .dataframe thead th {\n",
       "        text-align: right;\n",
       "    }\n",
       "</style>\n",
       "<table border=\"1\" class=\"dataframe\">\n",
       "  <thead>\n",
       "    <tr style=\"text-align: right;\">\n",
       "      <th></th>\n",
       "      <th>diagonal</th>\n",
       "      <th>height_left</th>\n",
       "      <th>height_right</th>\n",
       "      <th>is_genuine</th>\n",
       "      <th>length</th>\n",
       "      <th>margin_low</th>\n",
       "      <th>margin_up</th>\n",
       "    </tr>\n",
       "    <tr>\n",
       "      <th>Clusters_KMeans</th>\n",
       "      <th></th>\n",
       "      <th></th>\n",
       "      <th></th>\n",
       "      <th></th>\n",
       "      <th></th>\n",
       "      <th></th>\n",
       "      <th></th>\n",
       "    </tr>\n",
       "  </thead>\n",
       "  <tbody>\n",
       "    <tr>\n",
       "      <th>0</th>\n",
       "      <td>171.98680</td>\n",
       "      <td>103.95060</td>\n",
       "      <td>103.81134</td>\n",
       "      <td>0.99108</td>\n",
       "      <td>113.19945</td>\n",
       "      <td>4.11993</td>\n",
       "      <td>3.05482</td>\n",
       "    </tr>\n",
       "    <tr>\n",
       "      <th>1</th>\n",
       "      <td>171.90016</td>\n",
       "      <td>104.19173</td>\n",
       "      <td>104.14424</td>\n",
       "      <td>0.00000</td>\n",
       "      <td>111.60794</td>\n",
       "      <td>5.22959</td>\n",
       "      <td>3.35010</td>\n",
       "    </tr>\n",
       "  </tbody>\n",
       "</table>\n",
       "</div>"
      ],
      "text/plain": [
       "                 diagonal  height_left  height_right  is_genuine    length  \\\n",
       "Clusters_KMeans                                                              \n",
       "0               171.98680    103.95060     103.81134     0.99108 113.19945   \n",
       "1               171.90016    104.19173     104.14424     0.00000 111.60794   \n",
       "\n",
       "                 margin_low  margin_up  \n",
       "Clusters_KMeans                         \n",
       "0                   4.11993    3.05482  \n",
       "1                   5.22959    3.35010  "
      ]
     },
     "execution_count": 106,
     "metadata": {},
     "output_type": "execute_result"
    }
   ],
   "source": [
    "temp_df = pd.pivot_table(billets2,\n",
    "                         values=billets2.columns,\n",
    "                         aggfunc='mean',\n",
    "                         index='Clusters_KMeans')\n",
    "temp_df"
   ]
  },
  {
   "cell_type": "markdown",
   "metadata": {},
   "source": [
    "## Matrice de confusion"
   ]
  },
  {
   "cell_type": "code",
   "execution_count": 107,
   "metadata": {},
   "outputs": [
    {
     "name": "stdout",
     "output_type": "stream",
     "text": [
      "is_genuine         0     1\n",
      "Clusters_KMeans           \n",
      "0                  9  1000\n",
      "1                491     0\n"
     ]
    }
   ],
   "source": [
    "contingency_matrix = pd.crosstab(billets2['Clusters_KMeans'], billets2['is_genuine'])\n",
    "\n",
    "print(contingency_matrix)\n"
   ]
  },
  {
   "cell_type": "markdown",
   "metadata": {},
   "source": [
    "9 faux négaitfs : billets considérés comme vrais par le partitionnement K Means. Par contre, le modèle a repéré tous les vrais billets."
   ]
  },
  {
   "cell_type": "code",
   "execution_count": 108,
   "metadata": {},
   "outputs": [
    {
     "data": {
      "text/plain": [
       "99.4"
      ]
     },
     "execution_count": 108,
     "metadata": {},
     "output_type": "execute_result"
    }
   ],
   "source": [
    "#Accuracy\n",
    "100-(9/1500*100)"
   ]
  },
  {
   "cell_type": "markdown",
   "metadata": {},
   "source": [
    "0.6% d'erreurs."
   ]
  },
  {
   "cell_type": "code",
   "execution_count": 109,
   "metadata": {},
   "outputs": [
    {
     "data": {
      "text/plain": [
       "1.7999999999999998"
      ]
     },
     "execution_count": 109,
     "metadata": {},
     "output_type": "execute_result"
    }
   ],
   "source": [
    "# Taux de faux négatifs : faux négatifs sur faux billets\n",
    "9/500*100"
   ]
  },
  {
   "cell_type": "markdown",
   "metadata": {},
   "source": [
    "# Régression logistique"
   ]
  },
  {
   "cell_type": "markdown",
   "metadata": {},
   "source": [
    "## préparation des datasets"
   ]
  },
  {
   "cell_type": "markdown",
   "metadata": {},
   "source": [
    "### Préparation datasets avec variable expliquée séparée des variables exlicatives"
   ]
  },
  {
   "cell_type": "code",
   "execution_count": 110,
   "metadata": {},
   "outputs": [],
   "source": [
    "# Splitting Data into Training and Test Sets (test_set = 25%)\n",
    "\n",
    "\n",
    "x_train, x_test, y_train, y_test = train_test_split(billets2[['diagonal','height_left','height_right',\\\n",
    "                                                             'length','margin_low','margin_up']],\\\n",
    "                                                    billets2['is_genuine'], test_size=0.25, random_state=0)"
   ]
  },
  {
   "cell_type": "code",
   "execution_count": 111,
   "metadata": {},
   "outputs": [],
   "source": [
    "# Séparation sur tout le daset variables explicatives - variable expliquée\n",
    "x_billets2 = billets2[['diagonal','height_left','height_right','length','margin_low','margin_up']]\n",
    "y_billets2 = billets2['is_genuine']"
   ]
  },
  {
   "cell_type": "code",
   "execution_count": 112,
   "metadata": {},
   "outputs": [
    {
     "name": "stdout",
     "output_type": "stream",
     "text": [
      "1125\n",
      "1125\n",
      "375\n",
      "375\n",
      "1500\n",
      "1500\n"
     ]
    }
   ],
   "source": [
    "# Vérification\n",
    "print(len(x_train))\n",
    "print(len(y_train))\n",
    "print(len(x_test))\n",
    "print(len(y_test))\n",
    "print(len(x_billets2))\n",
    "print(len(y_billets2))"
   ]
  },
  {
   "cell_type": "markdown",
   "metadata": {},
   "source": [
    "### Préparation des datasets sans séparation variable expliquée variables explicatives"
   ]
  },
  {
   "cell_type": "code",
   "execution_count": 113,
   "metadata": {},
   "outputs": [],
   "source": [
    "# (test_set = 25%)\n",
    "from sklearn.model_selection import train_test_split\n",
    "train, test = train_test_split(billets2,test_size=0.25, random_state=0)"
   ]
  },
  {
   "cell_type": "code",
   "execution_count": 114,
   "metadata": {},
   "outputs": [
    {
     "name": "stdout",
     "output_type": "stream",
     "text": [
      "1125\n",
      "375\n"
     ]
    }
   ],
   "source": [
    "# Vérification\n",
    "print(len(train))\n",
    "print(len(test))"
   ]
  },
  {
   "cell_type": "markdown",
   "metadata": {},
   "source": [
    "# Régression logistique avec statsmodels (toutes variables)"
   ]
  },
  {
   "cell_type": "markdown",
   "metadata": {},
   "source": [
    "## Calcul de la régression logistique"
   ]
  },
  {
   "cell_type": "code",
   "execution_count": 115,
   "metadata": {},
   "outputs": [
    {
     "name": "stdout",
     "output_type": "stream",
     "text": [
      "Optimization terminated successfully.\n",
      "         Current function value: 0.024076\n",
      "         Iterations 13\n"
     ]
    }
   ],
   "source": [
    "# building the model and fitting the data\n",
    "log_reg = smf.logit(\"is_genuine ~ diagonal + height_left + height_right +\\\n",
    "                    margin_low + margin_up + length\", data=train).fit()"
   ]
  },
  {
   "cell_type": "code",
   "execution_count": 116,
   "metadata": {},
   "outputs": [
    {
     "name": "stdout",
     "output_type": "stream",
     "text": [
      "                           Logit Regression Results                           \n",
      "==============================================================================\n",
      "Dep. Variable:             is_genuine   No. Observations:                 1125\n",
      "Model:                          Logit   Df Residuals:                     1118\n",
      "Method:                           MLE   Df Model:                            6\n",
      "Date:                Mon, 11 Jul 2022   Pseudo R-squ.:                  0.9619\n",
      "Time:                        08:38:35   Log-Likelihood:                -27.086\n",
      "converged:                       True   LL-Null:                       -711.13\n",
      "Covariance Type:            nonrobust   LLR p-value:                1.970e-292\n",
      "================================================================================\n",
      "                   coef    std err          z      P>|z|      [0.025      0.975]\n",
      "--------------------------------------------------------------------------------\n",
      "Intercept     -208.4676    295.978     -0.704      0.481    -788.573     371.638\n",
      "diagonal         1.2496      1.375      0.909      0.364      -1.446       3.945\n",
      "height_left     -1.8153      1.402     -1.295      0.195      -4.563       0.932\n",
      "height_right    -3.6408      1.490     -2.443      0.015      -6.562      -0.720\n",
      "margin_low      -5.9476      1.170     -5.083      0.000      -8.241      -3.654\n",
      "margin_up      -11.9924      2.835     -4.229      0.000     -17.550      -6.435\n",
      "length           5.5718      1.032      5.401      0.000       3.550       7.594\n",
      "================================================================================\n",
      "\n",
      "Possibly complete quasi-separation: A fraction 0.55 of observations can be\n",
      "perfectly predicted. This might indicate that there is complete\n",
      "quasi-separation. In this case some parameters will not be identified.\n"
     ]
    }
   ],
   "source": [
    "# printing the summary table\n",
    "print(log_reg.summary())"
   ]
  },
  {
   "cell_type": "markdown",
   "metadata": {},
   "source": [
    "## Résultat sur le test set"
   ]
  },
  {
   "cell_type": "code",
   "execution_count": 117,
   "metadata": {},
   "outputs": [],
   "source": [
    "# performing predictions on the test datdaset\n",
    "yhat = log_reg.predict(test)\n",
    "prediction = list(map(round, yhat))"
   ]
  },
  {
   "cell_type": "code",
   "execution_count": 118,
   "metadata": {},
   "outputs": [
    {
     "data": {
      "image/png": "[encoded data removed]",
      "text/plain": [
       "<Figure size 648x648 with 2 Axes>"
      ]
     },
     "metadata": {
      "needs_background": "light"
     },
     "output_type": "display_data"
    }
   ],
   "source": [
    "# confusion matrix\n",
    "from sklearn.metrics import (confusion_matrix, \n",
    "                           accuracy_score)\n",
    "cm = confusion_matrix(y_test, prediction)\n",
    "\n",
    "# accuracy score of the model\n",
    "accuracy_score = accuracy_score(y_test, prediction)\n",
    "\n",
    "# Matrice de confusion - Heatmap\n",
    "plt.figure(figsize=(9,9))\n",
    "sns.heatmap(cm, annot=True, fmt=\".3f\", linewidths=.5, square = True, cmap = 'Blues_r');\n",
    "plt.ylabel('Actual label');\n",
    "plt.xlabel('Predicted label');\n",
    "all_sample_title = 'Accuracy Score: {0}'.format(accuracy_score)\n",
    "plt.title(all_sample_title, size = 15);"
   ]
  },
  {
   "cell_type": "code",
   "execution_count": 119,
   "metadata": {},
   "outputs": [
    {
     "data": {
      "text/plain": [
       "2.272727272727273"
      ]
     },
     "execution_count": 119,
     "metadata": {},
     "output_type": "execute_result"
    }
   ],
   "source": [
    "# Taux de faux billets non détectés\n",
    "3/132*100"
   ]
  },
  {
   "cell_type": "markdown",
   "metadata": {},
   "source": [
    "## Résultat sur le train set"
   ]
  },
  {
   "cell_type": "code",
   "execution_count": 120,
   "metadata": {},
   "outputs": [
    {
     "data": {
      "text/plain": [
       "1125"
      ]
     },
     "execution_count": 120,
     "metadata": {},
     "output_type": "execute_result"
    }
   ],
   "source": [
    "# performing predictions on the test datdaset\n",
    "yhat = log_reg.predict(train)\n",
    "prediction = list(map(round, yhat))\n",
    "len(prediction)"
   ]
  },
  {
   "cell_type": "code",
   "execution_count": 121,
   "metadata": {},
   "outputs": [
    {
     "data": {
      "image/png": "[encoded data removed]",
      "text/plain": [
       "<Figure size 648x648 with 2 Axes>"
      ]
     },
     "metadata": {
      "needs_background": "light"
     },
     "output_type": "display_data"
    }
   ],
   "source": [
    "# confusion matrix\n",
    "from sklearn.metrics import (confusion_matrix, \n",
    "                           accuracy_score)\n",
    "cm = confusion_matrix(y_train, prediction) \n",
    "\n",
    "# accuracy score of the model\n",
    "accuracy_score = accuracy_score(y_train, prediction)\n",
    "\n",
    "# Matrice de confusion - Heatmap\n",
    "plt.figure(figsize=(9,9))\n",
    "sns.heatmap(cm, annot=True, fmt=\".3f\", linewidths=.5, square = True, cmap = 'Blues_r');\n",
    "plt.ylabel('Actual label');\n",
    "plt.xlabel('Predicted label');\n",
    "all_sample_title = 'Accuracy Score: {0}'.format(accuracy_score)\n",
    "plt.title(all_sample_title, size = 15);"
   ]
  },
  {
   "cell_type": "code",
   "execution_count": 122,
   "metadata": {},
   "outputs": [
    {
     "data": {
      "text/plain": [
       "1.358695652173913"
      ]
     },
     "execution_count": 122,
     "metadata": {},
     "output_type": "execute_result"
    }
   ],
   "source": [
    "# Taux de faux billets non détectés\n",
    "5/368*100"
   ]
  },
  {
   "cell_type": "markdown",
   "metadata": {},
   "source": [
    "## Résultat sur tout le dataset"
   ]
  },
  {
   "cell_type": "code",
   "execution_count": 123,
   "metadata": {},
   "outputs": [
    {
     "data": {
      "image/png": "[encoded data removed]",
      "text/plain": [
       "<Figure size 648x648 with 2 Axes>"
      ]
     },
     "metadata": {
      "needs_background": "light"
     },
     "output_type": "display_data"
    }
   ],
   "source": [
    "# performing predictions on the test datdaset\n",
    "yhat = log_reg.predict(billets2)\n",
    "prediction = list(map(round, yhat))\n",
    "\n",
    "# confusion matrix\n",
    "from sklearn.metrics import (confusion_matrix, \n",
    "                           accuracy_score)\n",
    "cm = confusion_matrix(y_billets2, prediction) \n",
    "\n",
    "# accuracy score of the model\n",
    "accuracy_score = accuracy_score(y_billets2, prediction)\n",
    "\n",
    "# Matrice de confusion - Heatmap\n",
    "plt.figure(figsize=(9,9))\n",
    "sns.heatmap(cm, annot=True, fmt=\".3f\", linewidths=.5, square = True, cmap = 'Blues_r');\n",
    "plt.ylabel('Actual label');\n",
    "plt.xlabel('Predicted label');\n",
    "all_sample_title = 'Accuracy Score: {0}'.format(accuracy_score)\n",
    "plt.title(all_sample_title, size = 15);"
   ]
  },
  {
   "cell_type": "code",
   "execution_count": 124,
   "metadata": {},
   "outputs": [
    {
     "data": {
      "text/plain": [
       "1.6"
      ]
     },
     "execution_count": 124,
     "metadata": {},
     "output_type": "execute_result"
    }
   ],
   "source": [
    "# taux de faux négatifs : \n",
    "8/500*100"
   ]
  },
  {
   "cell_type": "code",
   "execution_count": 125,
   "metadata": {
    "scrolled": true
   },
   "outputs": [
    {
     "data": {
      "image/png": "[encoded data removed]",
      "text/plain": [
       "<Figure size 432x288 with 1 Axes>"
      ]
     },
     "metadata": {
      "needs_background": "light"
     },
     "output_type": "display_data"
    }
   ],
   "source": [
    "# ROC Curve\n",
    "import scikitplot as skplt\n",
    "import matplotlib.pyplot as plt\n",
    "\n",
    "y_true = billets2['is_genuine']\n",
    "y_probas = prediction\n",
    "\n",
    "fpr, tpr, _ = metrics.roc_curve(y_true,  y_probas)\n",
    "auc = metrics.roc_auc_score(y_true, y_probas)\n",
    "plt.plot(fpr,tpr,label=\"data 1, auc=\"+str(auc))\n",
    "plt.legend(loc=4)\n",
    "plt.show()"
   ]
  },
  {
   "cell_type": "markdown",
   "metadata": {},
   "source": [
    "# Régression logistique avec statsmodels\n",
    "- intercept (constante) enlevé du modèle : p value à 0.481"
   ]
  },
  {
   "cell_type": "code",
   "execution_count": 126,
   "metadata": {},
   "outputs": [
    {
     "name": "stdout",
     "output_type": "stream",
     "text": [
      "Optimization terminated successfully.\n",
      "         Current function value: 0.024297\n",
      "         Iterations 12\n"
     ]
    }
   ],
   "source": [
    "# building the model and fitting the data\n",
    "log_reg = sm.Logit(y_train, x_train).fit()"
   ]
  },
  {
   "cell_type": "code",
   "execution_count": 127,
   "metadata": {},
   "outputs": [
    {
     "name": "stdout",
     "output_type": "stream",
     "text": [
      "                           Logit Regression Results                           \n",
      "==============================================================================\n",
      "Dep. Variable:             is_genuine   No. Observations:                 1125\n",
      "Model:                          Logit   Df Residuals:                     1119\n",
      "Method:                           MLE   Df Model:                            5\n",
      "Date:                Mon, 11 Jul 2022   Pseudo R-squ.:                  0.9616\n",
      "Time:                        08:38:36   Log-Likelihood:                -27.334\n",
      "converged:                       True   LL-Null:                       -711.13\n",
      "Covariance Type:            nonrobust   LLR p-value:                1.452e-293\n",
      "================================================================================\n",
      "                   coef    std err          z      P>|z|      [0.025      0.975]\n",
      "--------------------------------------------------------------------------------\n",
      "diagonal         0.5191      0.892      0.582      0.561      -1.229       2.267\n",
      "height_left     -2.1064      1.326     -1.589      0.112      -4.705       0.492\n",
      "height_right    -3.9167      1.390     -2.819      0.005      -6.640      -1.193\n",
      "length           5.3791      0.972      5.533      0.000       3.474       7.284\n",
      "margin_low      -6.1490      1.188     -5.178      0.000      -8.477      -3.821\n",
      "margin_up      -12.3742      2.821     -4.386      0.000     -17.904      -6.844\n",
      "================================================================================\n",
      "\n",
      "Possibly complete quasi-separation: A fraction 0.56 of observations can be\n",
      "perfectly predicted. This might indicate that there is complete\n",
      "quasi-separation. In this case some parameters will not be identified.\n"
     ]
    }
   ],
   "source": [
    "# printing the summary table\n",
    "print(log_reg.summary())"
   ]
  },
  {
   "cell_type": "markdown",
   "metadata": {},
   "source": [
    "## Résultat sur le test set"
   ]
  },
  {
   "cell_type": "code",
   "execution_count": 128,
   "metadata": {},
   "outputs": [],
   "source": [
    "# performing predictions on the test datdaset\n",
    "yhat = log_reg.predict(x_test)\n",
    "prediction = list(map(round, yhat))"
   ]
  },
  {
   "cell_type": "code",
   "execution_count": 129,
   "metadata": {},
   "outputs": [
    {
     "data": {
      "image/png": "[encoded data removed]",
      "text/plain": [
       "<Figure size 648x648 with 2 Axes>"
      ]
     },
     "metadata": {
      "needs_background": "light"
     },
     "output_type": "display_data"
    }
   ],
   "source": [
    "# confusion matrix\n",
    "from sklearn.metrics import (confusion_matrix, \n",
    "                           accuracy_score)\n",
    "cm = confusion_matrix(y_test, prediction) \n",
    "\n",
    "# accuracy score of the model\n",
    "accuracy_score = accuracy_score(y_test, prediction)\n",
    "\n",
    "# Matrice de confusion - Heatmap\n",
    "plt.figure(figsize=(9,9))\n",
    "sns.heatmap(cm, annot=True, fmt=\".3f\", linewidths=.5, square = True, cmap = 'Blues_r');\n",
    "plt.ylabel('Actual label');\n",
    "plt.xlabel('Predicted label');\n",
    "all_sample_title = 'Accuracy Score: {0}'.format(accuracy_score)\n",
    "plt.title(all_sample_title, size = 15);"
   ]
  },
  {
   "cell_type": "code",
   "execution_count": 130,
   "metadata": {},
   "outputs": [
    {
     "data": {
      "text/plain": [
       "3.0303030303030303"
      ]
     },
     "execution_count": 130,
     "metadata": {},
     "output_type": "execute_result"
    }
   ],
   "source": [
    "# Taux de faux billets non détectés\n",
    "4/132*100"
   ]
  },
  {
   "cell_type": "markdown",
   "metadata": {},
   "source": [
    "## Résultat sur le train set"
   ]
  },
  {
   "cell_type": "code",
   "execution_count": 131,
   "metadata": {},
   "outputs": [],
   "source": [
    "# performing predictions on the test datdaset\n",
    "yhat = log_reg.predict(x_train)\n",
    "prediction = list(map(round, yhat))"
   ]
  },
  {
   "cell_type": "code",
   "execution_count": 132,
   "metadata": {},
   "outputs": [
    {
     "data": {
      "text/plain": [
       "1125"
      ]
     },
     "execution_count": 132,
     "metadata": {},
     "output_type": "execute_result"
    }
   ],
   "source": [
    "len(prediction)"
   ]
  },
  {
   "cell_type": "code",
   "execution_count": 133,
   "metadata": {},
   "outputs": [
    {
     "name": "stdout",
     "output_type": "stream",
     "text": [
      "Confusion Matrix : \n",
      " [[363   5]\n",
      " [  2 755]]\n",
      "Test accuracy =  0.9937777777777778\n"
     ]
    }
   ],
   "source": [
    "# confusion matrix\n",
    "from sklearn.metrics import (confusion_matrix, \n",
    "                           accuracy_score)\n",
    "cm = confusion_matrix(y_train, prediction) \n",
    "print (\"Confusion Matrix : \\n\", cm)\n",
    "\n",
    "# accuracy score of the model\n",
    "accuracy_score = accuracy_score(y_train, prediction)\n",
    "print('Test accuracy = ', accuracy_score)"
   ]
  },
  {
   "cell_type": "code",
   "execution_count": 134,
   "metadata": {
    "scrolled": false
   },
   "outputs": [
    {
     "data": {
      "image/png": "[encoded data removed]",
      "text/plain": [
       "<Figure size 648x648 with 2 Axes>"
      ]
     },
     "metadata": {
      "needs_background": "light"
     },
     "output_type": "display_data"
    }
   ],
   "source": [
    "# Matrice de confusion - Heatmap\n",
    "plt.figure(figsize=(9,9))\n",
    "sns.heatmap(cm, annot=True, fmt=\".3f\", linewidths=.5, square = True, cmap = 'Blues_r');\n",
    "plt.ylabel('Actual label');\n",
    "plt.xlabel('Predicted label');\n",
    "all_sample_title = 'Accuracy Score: {0}'.format(accuracy_score)\n",
    "plt.title(all_sample_title, size = 15);"
   ]
  },
  {
   "cell_type": "code",
   "execution_count": 135,
   "metadata": {},
   "outputs": [
    {
     "data": {
      "text/plain": [
       "1.358695652173913"
      ]
     },
     "execution_count": 135,
     "metadata": {},
     "output_type": "execute_result"
    }
   ],
   "source": [
    "# Taux de faux billets non détectés\n",
    "5/368*100"
   ]
  },
  {
   "cell_type": "markdown",
   "metadata": {},
   "source": [
    "## Résultat sur tout le dataset"
   ]
  },
  {
   "cell_type": "code",
   "execution_count": 136,
   "metadata": {},
   "outputs": [
    {
     "data": {
      "image/png": "[encoded data removed]",
      "text/plain": [
       "<Figure size 648x648 with 2 Axes>"
      ]
     },
     "metadata": {
      "needs_background": "light"
     },
     "output_type": "display_data"
    }
   ],
   "source": [
    "# performing predictions on the test datdaset\n",
    "yhat = log_reg.predict(x_billets2)\n",
    "prediction = list(map(round, yhat))\n",
    "\n",
    "# confusion matrix\n",
    "\n",
    "from sklearn.metrics import (confusion_matrix, \n",
    "                           accuracy_score)\n",
    "cm = confusion_matrix(y_billets2, prediction) \n",
    "\n",
    "# accuracy score of the model\n",
    "accuracy_score = accuracy_score(y_billets2, prediction)\n",
    "\n",
    "# Matrice de confusion - Heatmap\n",
    "plt.figure(figsize=(9,9))\n",
    "sns.heatmap(cm, annot=True, fmt=\".3f\", linewidths=.5, square = True, cmap = 'Blues_r');\n",
    "plt.ylabel('Actual label');\n",
    "plt.xlabel('Predicted label');\n",
    "all_sample_title = 'Accuracy Score: {0}'.format(accuracy_score)\n",
    "plt.title(all_sample_title, size = 15);"
   ]
  },
  {
   "cell_type": "code",
   "execution_count": 137,
   "metadata": {},
   "outputs": [
    {
     "data": {
      "text/plain": [
       "1.7999999999999998"
      ]
     },
     "execution_count": 137,
     "metadata": {},
     "output_type": "execute_result"
    }
   ],
   "source": [
    "# taux de faux négatifs : \n",
    "9/500*100"
   ]
  },
  {
   "cell_type": "code",
   "execution_count": 138,
   "metadata": {
    "scrolled": true
   },
   "outputs": [
    {
     "data": {
      "image/png": "[encoded data removed]",
      "text/plain": [
       "<Figure size 432x288 with 1 Axes>"
      ]
     },
     "metadata": {
      "needs_background": "light"
     },
     "output_type": "display_data"
    }
   ],
   "source": [
    "# ROC Curve\n",
    "import scikitplot as skplt\n",
    "import matplotlib.pyplot as plt\n",
    "\n",
    "y_true = billets2['is_genuine']\n",
    "y_probas = prediction\n",
    "\n",
    "fpr, tpr, _ = metrics.roc_curve(y_true,  y_probas)\n",
    "auc = metrics.roc_auc_score(y_true, y_probas)\n",
    "plt.plot(fpr,tpr,label=\"data 1, auc=\"+str(auc))\n",
    "plt.legend(loc=4)\n",
    "plt.show()"
   ]
  },
  {
   "cell_type": "markdown",
   "metadata": {},
   "source": [
    "# Régression logistique avec statsmodels\n",
    "- diagonal enlevé du modèle : p value à 0.561"
   ]
  },
  {
   "cell_type": "markdown",
   "metadata": {},
   "source": [
    "## Suppression colonne diagonal"
   ]
  },
  {
   "cell_type": "code",
   "execution_count": 139,
   "metadata": {},
   "outputs": [],
   "source": [
    "x_train = x_train.drop(columns='diagonal')\n",
    "x_test = x_test.drop(columns='diagonal')\n",
    "x_billets2 = x_billets2.drop(columns='diagonal')"
   ]
  },
  {
   "cell_type": "markdown",
   "metadata": {},
   "source": [
    "## Calcul de la régression logistique"
   ]
  },
  {
   "cell_type": "code",
   "execution_count": 140,
   "metadata": {},
   "outputs": [
    {
     "name": "stdout",
     "output_type": "stream",
     "text": [
      "Optimization terminated successfully.\n",
      "         Current function value: 0.024450\n",
      "         Iterations 12\n"
     ]
    }
   ],
   "source": [
    "# building the model and fitting the data\n",
    "log_reg = sm.Logit(y_train, x_train).fit()"
   ]
  },
  {
   "cell_type": "code",
   "execution_count": 141,
   "metadata": {},
   "outputs": [
    {
     "name": "stdout",
     "output_type": "stream",
     "text": [
      "                           Logit Regression Results                           \n",
      "==============================================================================\n",
      "Dep. Variable:             is_genuine   No. Observations:                 1125\n",
      "Model:                          Logit   Df Residuals:                     1120\n",
      "Method:                           MLE   Df Model:                            4\n",
      "Date:                Mon, 11 Jul 2022   Pseudo R-squ.:                  0.9613\n",
      "Time:                        08:38:37   Log-Likelihood:                -27.506\n",
      "converged:                       True   LL-Null:                       -711.13\n",
      "Covariance Type:            nonrobust   LLR p-value:                8.751e-295\n",
      "================================================================================\n",
      "                   coef    std err          z      P>|z|      [0.025      0.975]\n",
      "--------------------------------------------------------------------------------\n",
      "height_left     -1.7700      1.175     -1.506      0.132      -4.074       0.533\n",
      "height_right    -3.6439      1.275     -2.858      0.004      -6.143      -1.145\n",
      "length           5.6116      0.934      6.007      0.000       3.781       7.443\n",
      "margin_low      -6.2708      1.177     -5.326      0.000      -8.578      -3.963\n",
      "margin_up      -12.3209      2.836     -4.345      0.000     -17.879      -6.763\n",
      "================================================================================\n",
      "\n",
      "Possibly complete quasi-separation: A fraction 0.56 of observations can be\n",
      "perfectly predicted. This might indicate that there is complete\n",
      "quasi-separation. In this case some parameters will not be identified.\n"
     ]
    }
   ],
   "source": [
    "# printing the summary table\n",
    "print(log_reg.summary())"
   ]
  },
  {
   "cell_type": "markdown",
   "metadata": {},
   "source": [
    "## Résultat sur le test set"
   ]
  },
  {
   "cell_type": "code",
   "execution_count": 142,
   "metadata": {},
   "outputs": [
    {
     "data": {
      "image/png": "[encoded data removed]",
      "text/plain": [
       "<Figure size 648x648 with 2 Axes>"
      ]
     },
     "metadata": {
      "needs_background": "light"
     },
     "output_type": "display_data"
    }
   ],
   "source": [
    "# performing predictions on the test datdaset\n",
    "yhat = log_reg.predict(x_test)\n",
    "prediction = list(map(round, yhat))\n",
    "\n",
    "# confusion matrix\n",
    "\n",
    "from sklearn.metrics import (confusion_matrix, \n",
    "                           accuracy_score)\n",
    "cm = confusion_matrix(y_test, prediction) \n",
    "\n",
    "# accuracy score of the model\n",
    "accuracy_score = accuracy_score(y_test, prediction)\n",
    "\n",
    "# Matrice de confusion - Heatmap\n",
    "plt.figure(figsize=(9,9))\n",
    "sns.heatmap(cm, annot=True, fmt=\".3f\", linewidths=.5, square = True, cmap = 'Blues_r');\n",
    "plt.ylabel('Actual label');\n",
    "plt.xlabel('Predicted label');\n",
    "all_sample_title = 'Accuracy Score: {0}'.format(accuracy_score)\n",
    "plt.title(all_sample_title, size = 15);"
   ]
  },
  {
   "cell_type": "code",
   "execution_count": 143,
   "metadata": {},
   "outputs": [
    {
     "data": {
      "text/plain": [
       "2.272727272727273"
      ]
     },
     "execution_count": 143,
     "metadata": {},
     "output_type": "execute_result"
    }
   ],
   "source": [
    "# Taux de faux billets non détectés\n",
    "3/132*100"
   ]
  },
  {
   "cell_type": "markdown",
   "metadata": {},
   "source": [
    "## Résultat sur le train set"
   ]
  },
  {
   "cell_type": "code",
   "execution_count": 144,
   "metadata": {},
   "outputs": [],
   "source": [
    "# performing predictions on the test datdaset\n",
    "yhat = log_reg.predict(x_train)\n",
    "prediction = list(map(round, yhat))"
   ]
  },
  {
   "cell_type": "code",
   "execution_count": 145,
   "metadata": {},
   "outputs": [
    {
     "data": {
      "image/png": "[encoded data removed]",
      "text/plain": [
       "<Figure size 648x648 with 2 Axes>"
      ]
     },
     "metadata": {
      "needs_background": "light"
     },
     "output_type": "display_data"
    }
   ],
   "source": [
    "# confusion matrix\n",
    "from sklearn.metrics import (confusion_matrix, \n",
    "                           accuracy_score)\n",
    "cm = confusion_matrix(y_train, prediction) \n",
    "\n",
    "# accuracy score of the model\n",
    "accuracy_score = accuracy_score(y_train, prediction)\n",
    "\n",
    "# Matrice de confusion - Heatmap\n",
    "plt.figure(figsize=(9,9))\n",
    "sns.heatmap(cm, annot=True, fmt=\".3f\", linewidths=.5, square = True, cmap = 'Blues_r');\n",
    "plt.ylabel('Actual label');\n",
    "plt.xlabel('Predicted label');\n",
    "all_sample_title = 'Accuracy Score: {0}'.format(accuracy_score)\n",
    "plt.title(all_sample_title, size = 15);"
   ]
  },
  {
   "cell_type": "code",
   "execution_count": 146,
   "metadata": {},
   "outputs": [
    {
     "data": {
      "text/plain": [
       "1.358695652173913"
      ]
     },
     "execution_count": 146,
     "metadata": {},
     "output_type": "execute_result"
    }
   ],
   "source": [
    "# Taux de faux billets non détectés\n",
    "5/368*100"
   ]
  },
  {
   "cell_type": "markdown",
   "metadata": {},
   "source": [
    "## Résultat sur tout le dataset"
   ]
  },
  {
   "cell_type": "code",
   "execution_count": 147,
   "metadata": {},
   "outputs": [
    {
     "data": {
      "image/png": "[encoded data removed]",
      "text/plain": [
       "<Figure size 648x648 with 2 Axes>"
      ]
     },
     "metadata": {
      "needs_background": "light"
     },
     "output_type": "display_data"
    }
   ],
   "source": [
    "# performing predictions on the test datdaset\n",
    "yhat = log_reg.predict(x_billets2)\n",
    "prediction = list(map(round, yhat))\n",
    "\n",
    "# confusion matrix\n",
    "from sklearn.metrics import (confusion_matrix, \n",
    "                           accuracy_score)\n",
    "cm = confusion_matrix(y_billets2, prediction) \n",
    "\n",
    "# accuracy score of the model\n",
    "accuracy_score = accuracy_score(y_billets2, prediction)\n",
    "\n",
    "# Matrice de confusion - Heatmap\n",
    "plt.figure(figsize=(9,9))\n",
    "sns.heatmap(cm, annot=True, fmt=\".3f\", linewidths=.5, square = True, cmap = 'Blues_r');\n",
    "plt.ylabel('Actual label');\n",
    "plt.xlabel('Predicted label');\n",
    "all_sample_title = 'Accuracy Score: {0}'.format(accuracy_score)\n",
    "plt.title(all_sample_title, size = 15);"
   ]
  },
  {
   "cell_type": "code",
   "execution_count": 148,
   "metadata": {},
   "outputs": [
    {
     "data": {
      "text/plain": [
       "1.6"
      ]
     },
     "execution_count": 148,
     "metadata": {},
     "output_type": "execute_result"
    }
   ],
   "source": [
    "# Taux de faux billets non détectés\n",
    "8/500*100"
   ]
  },
  {
   "cell_type": "code",
   "execution_count": 149,
   "metadata": {
    "scrolled": false
   },
   "outputs": [
    {
     "data": {
      "image/png": "[encoded data removed]",
      "text/plain": [
       "<Figure size 432x288 with 1 Axes>"
      ]
     },
     "metadata": {
      "needs_background": "light"
     },
     "output_type": "display_data"
    }
   ],
   "source": [
    "# ROC Curve\n",
    "import scikitplot as skplt\n",
    "import matplotlib.pyplot as plt\n",
    "\n",
    "y_true = billets2['is_genuine']\n",
    "y_probas = prediction\n",
    "\n",
    "fpr, tpr, _ = metrics.roc_curve(y_true,  y_probas)\n",
    "auc = metrics.roc_auc_score(y_true, y_probas)\n",
    "plt.plot(fpr,tpr,label=\"data 1, auc=\"+str(auc))\n",
    "plt.legend(loc=4)\n",
    "plt.show()"
   ]
  },
  {
   "cell_type": "markdown",
   "metadata": {},
   "source": [
    "# Régression logistique avec statsmodels\n",
    "- height_left enlevé du modèle : p value à 0.132"
   ]
  },
  {
   "cell_type": "markdown",
   "metadata": {},
   "source": [
    "## Suppression colonne height_left"
   ]
  },
  {
   "cell_type": "code",
   "execution_count": 150,
   "metadata": {},
   "outputs": [],
   "source": [
    "x_train = x_train.drop(columns='height_left')\n",
    "x_test = x_test.drop(columns='height_left')\n",
    "x_billets2 = x_billets2.drop(columns='height_left')"
   ]
  },
  {
   "cell_type": "markdown",
   "metadata": {},
   "source": [
    "## Calcul de la régression logistique"
   ]
  },
  {
   "cell_type": "code",
   "execution_count": 151,
   "metadata": {},
   "outputs": [
    {
     "name": "stdout",
     "output_type": "stream",
     "text": [
      "Optimization terminated successfully.\n",
      "         Current function value: 0.025504\n",
      "         Iterations 12\n"
     ]
    }
   ],
   "source": [
    "# building the model and fitting the data\n",
    "log_reg = sm.Logit(y_train, x_train).fit()"
   ]
  },
  {
   "cell_type": "code",
   "execution_count": 152,
   "metadata": {},
   "outputs": [
    {
     "name": "stdout",
     "output_type": "stream",
     "text": [
      "                           Logit Regression Results                           \n",
      "==============================================================================\n",
      "Dep. Variable:             is_genuine   No. Observations:                 1125\n",
      "Model:                          Logit   Df Residuals:                     1121\n",
      "Method:                           MLE   Df Model:                            3\n",
      "Date:                Mon, 11 Jul 2022   Pseudo R-squ.:                  0.9597\n",
      "Time:                        08:38:37   Log-Likelihood:                -28.692\n",
      "converged:                       True   LL-Null:                       -711.13\n",
      "Covariance Type:            nonrobust   LLR p-value:                1.234e-295\n",
      "================================================================================\n",
      "                   coef    std err          z      P>|z|      [0.025      0.975]\n",
      "--------------------------------------------------------------------------------\n",
      "height_right    -5.2194      0.907     -5.758      0.000      -6.996      -3.443\n",
      "length           5.4439      0.890      6.119      0.000       3.700       7.188\n",
      "margin_low      -6.5137      1.200     -5.428      0.000      -8.866      -4.162\n",
      "margin_up      -12.4262      2.680     -4.637      0.000     -17.679      -7.174\n",
      "================================================================================\n",
      "\n",
      "Possibly complete quasi-separation: A fraction 0.57 of observations can be\n",
      "perfectly predicted. This might indicate that there is complete\n",
      "quasi-separation. In this case some parameters will not be identified.\n"
     ]
    }
   ],
   "source": [
    "# printing the summary table\n",
    "print(log_reg.summary())"
   ]
  },
  {
   "cell_type": "markdown",
   "metadata": {},
   "source": [
    "## Résultat sur le test set"
   ]
  },
  {
   "cell_type": "code",
   "execution_count": 153,
   "metadata": {},
   "outputs": [
    {
     "data": {
      "image/png": "[encoded data removed]",
      "text/plain": [
       "<Figure size 648x648 with 2 Axes>"
      ]
     },
     "metadata": {
      "needs_background": "light"
     },
     "output_type": "display_data"
    }
   ],
   "source": [
    "# performing predictions on the test datdaset\n",
    "yhat = log_reg.predict(x_test)\n",
    "prediction = list(map(round, yhat))\n",
    "\n",
    "# confusion matrix\n",
    "\n",
    "from sklearn.metrics import (confusion_matrix, \n",
    "                           accuracy_score)\n",
    "cm = confusion_matrix(y_test, prediction) \n",
    "\n",
    "# accuracy score of the model\n",
    "accuracy_score = accuracy_score(y_test, prediction)\n",
    "\n",
    "# Matrice de confusion - Heatmap\n",
    "plt.figure(figsize=(9,9))\n",
    "sns.heatmap(cm, annot=True, fmt=\".3f\", linewidths=.5, square = True, cmap = 'Blues_r');\n",
    "plt.ylabel('Actual label');\n",
    "plt.xlabel('Predicted label');\n",
    "all_sample_title = 'Accuracy Score: {0}'.format(accuracy_score)\n",
    "plt.title(all_sample_title, size = 15);"
   ]
  },
  {
   "cell_type": "code",
   "execution_count": 154,
   "metadata": {},
   "outputs": [
    {
     "data": {
      "text/plain": [
       "2.272727272727273"
      ]
     },
     "execution_count": 154,
     "metadata": {},
     "output_type": "execute_result"
    }
   ],
   "source": [
    "# Taux de faux billets non détectés\n",
    "3/132*100"
   ]
  },
  {
   "cell_type": "markdown",
   "metadata": {},
   "source": [
    "## Résultat sur le train set"
   ]
  },
  {
   "cell_type": "code",
   "execution_count": 155,
   "metadata": {},
   "outputs": [],
   "source": [
    "# performing predictions on the test datdaset\n",
    "yhat = log_reg.predict(x_train)\n",
    "prediction = list(map(round, yhat))"
   ]
  },
  {
   "cell_type": "code",
   "execution_count": 156,
   "metadata": {},
   "outputs": [
    {
     "data": {
      "image/png": "[encoded data removed]",
      "text/plain": [
       "<Figure size 648x648 with 2 Axes>"
      ]
     },
     "metadata": {
      "needs_background": "light"
     },
     "output_type": "display_data"
    }
   ],
   "source": [
    "# confusion matrix\n",
    "from sklearn.metrics import (confusion_matrix, \n",
    "                           accuracy_score)\n",
    "cm = confusion_matrix(y_train, prediction) \n",
    "\n",
    "# accuracy score of the model\n",
    "accuracy_score = accuracy_score(y_train, prediction)\n",
    "\n",
    "# Matrice de confusion - Heatmap\n",
    "plt.figure(figsize=(9,9))\n",
    "sns.heatmap(cm, annot=True, fmt=\".3f\", linewidths=.5, square = True, cmap = 'Blues_r');\n",
    "plt.ylabel('Actual label');\n",
    "plt.xlabel('Predicted label');\n",
    "all_sample_title = 'Accuracy Score: {0}'.format(accuracy_score)\n",
    "plt.title(all_sample_title, size = 15);"
   ]
  },
  {
   "cell_type": "code",
   "execution_count": 157,
   "metadata": {},
   "outputs": [
    {
     "data": {
      "text/plain": [
       "1.6304347826086956"
      ]
     },
     "execution_count": 157,
     "metadata": {},
     "output_type": "execute_result"
    }
   ],
   "source": [
    "# Taux de faux billets non détectés\n",
    "6/368*100"
   ]
  },
  {
   "cell_type": "markdown",
   "metadata": {},
   "source": [
    "## Résultat sur tout le dataset"
   ]
  },
  {
   "cell_type": "code",
   "execution_count": 158,
   "metadata": {},
   "outputs": [
    {
     "data": {
      "image/png": "[encoded data removed]",
      "text/plain": [
       "<Figure size 648x648 with 2 Axes>"
      ]
     },
     "metadata": {
      "needs_background": "light"
     },
     "output_type": "display_data"
    }
   ],
   "source": [
    "# performing predictions on the test datdaset\n",
    "yhat = log_reg.predict(x_billets2)\n",
    "prediction = list(map(round, yhat))\n",
    "\n",
    "# confusion matrix\n",
    "from sklearn.metrics import (confusion_matrix, \n",
    "                           accuracy_score)\n",
    "cm = confusion_matrix(y_billets2, prediction) \n",
    "\n",
    "\n",
    "# accuracy score of the model\n",
    "accuracy_score = accuracy_score(y_billets2, prediction)\n",
    "\n",
    "# Matrice de confusion - Heatmap\n",
    "plt.figure(figsize=(9,9))\n",
    "sns.heatmap(cm, annot=True, fmt=\".3f\", linewidths=.5, square = True, cmap = 'Blues_r');\n",
    "plt.ylabel('Actual label');\n",
    "plt.xlabel('Predicted label');\n",
    "all_sample_title = 'Accuracy Score: {0}'.format(accuracy_score)\n",
    "plt.title(all_sample_title, size = 15);"
   ]
  },
  {
   "cell_type": "code",
   "execution_count": 159,
   "metadata": {},
   "outputs": [
    {
     "data": {
      "text/plain": [
       "1.7999999999999998"
      ]
     },
     "execution_count": 159,
     "metadata": {},
     "output_type": "execute_result"
    }
   ],
   "source": [
    "# Taux de faux billets non détectés\n",
    "9/500*100"
   ]
  },
  {
   "cell_type": "code",
   "execution_count": 160,
   "metadata": {},
   "outputs": [
    {
     "data": {
      "image/png": "[encoded data removed]",
      "text/plain": [
       "<Figure size 432x288 with 1 Axes>"
      ]
     },
     "metadata": {
      "needs_background": "light"
     },
     "output_type": "display_data"
    }
   ],
   "source": [
    "# ROC Curve\n",
    "import scikitplot as skplt\n",
    "import matplotlib.pyplot as plt\n",
    "\n",
    "y_true = billets2['is_genuine']\n",
    "y_probas = prediction\n",
    "\n",
    "fpr, tpr, _ = metrics.roc_curve(y_true,  y_probas)\n",
    "auc = metrics.roc_auc_score(y_true, y_probas)\n",
    "plt.plot(fpr,tpr,label=\"data 1, auc=\"+str(auc))\n",
    "plt.legend(loc=4)\n",
    "plt.show()"
   ]
  },
  {
   "cell_type": "markdown",
   "metadata": {},
   "source": [
    "# Conclusion sur les modèles\n",
    "Critère : Taux de faux négatifs sur le dataset en entier\n",
    "\n",
    "- K Means = 1.80%\n",
    "- Régression logistique avec toutes les variables + constante = 1.60 %\n",
    "- Régression logistique avec toutes les variables - constante = 1.80%\n",
    "- Régression logistique - variable diagonal - constante = 1.60%\n",
    "- Régression logistique - variables diagonal et height_left - constante = 1.80%\n",
    "\n",
    "2 modèles arrivent à 1.60% de faux négatifs, mais le modèle sans la variable diagonal et sans la constante a des résultats sur les P-Values rendant la prédiction plus robuste (sans la constante avec une P-value de 0.481 et la variable diagonal avec une P-value de 0.561)."
   ]
  },
  {
   "cell_type": "markdown",
   "metadata": {},
   "source": [
    "## Prédiction autres billets"
   ]
  },
  {
   "cell_type": "code",
   "execution_count": 163,
   "metadata": {},
   "outputs": [],
   "source": [
    "def prediction (dataset):\n",
    "    billets_test = pd.read_csv(dataset)\n",
    "    # Splitting Data into Training and Test Sets (test_set = 25%)\n",
    "    x_train, x_test, y_train, y_test = train_test_split(billets2[['height_left','height_right',\\\n",
    "                                                             'length','margin_low','margin_up']],\\\n",
    "                                                    billets2['is_genuine'], test_size=0.25, random_state=0)\n",
    "    # Séparation sur tout le daset variables explicatives - variable expliquée\n",
    "    x_billets2 = billets2[['height_left','height_right','length','margin_low','margin_up']]\n",
    "    y_billets2 = billets2['is_genuine']\n",
    "    # building the model and fitting the data\n",
    "    log_reg = sm.Logit(y_train, x_train).fit()\n",
    "    # Extraction des variables explicatives\n",
    "    billets_a_tester = billets_test[['height_left','height_right','length','margin_low','margin_up']]\n",
    "    # performing predictions\n",
    "    yhat = log_reg.predict(billets_a_tester)\n",
    "    prediction = list(map(round, yhat))\n",
    "    # Ajout de la prédiction au dataset à tester\n",
    "    pd.options.mode.chained_assignment = None\n",
    "    billets_test['prediction'] = prediction\n",
    "    # remplacement prédiction par valeur textuelle\n",
    "    billets_test = billets_test.replace(1,'vrai billet')\n",
    "    billets_test = billets_test.replace(0,'faux billet')\n",
    "    # Sortie des résultats\n",
    "    print(billets_test)"
   ]
  },
  {
   "cell_type": "markdown",
   "metadata": {},
   "source": [
    "# Test du modèle sur d'autres datasets"
   ]
  },
  {
   "cell_type": "code",
   "execution_count": 165,
   "metadata": {},
   "outputs": [
    {
     "name": "stdout",
     "output_type": "stream",
     "text": [
      "Optimization terminated successfully.\n",
      "         Current function value: 0.024450\n",
      "         Iterations 12\n",
      "   diagonal  height_left  height_right  margin_low  margin_up    length   id  \\\n",
      "0 171.76000    104.01000     103.54000     5.21000    3.30000 111.42000  A_1   \n",
      "1 171.87000    104.17000     104.13000     6.00000    3.31000 112.09000  A_2   \n",
      "2 172.00000    104.58000     104.29000     4.99000    3.39000 111.57000  A_3   \n",
      "3 172.49000    104.55000     104.34000     4.44000    3.03000 113.20000  A_4   \n",
      "4 171.65000    103.63000     103.56000     3.77000    3.16000 113.33000  A_5   \n",
      "\n",
      "    prediction  \n",
      "0  faux billet  \n",
      "1  faux billet  \n",
      "2  faux billet  \n",
      "3  vrai billet  \n",
      "4  vrai billet  \n"
     ]
    }
   ],
   "source": [
    "prediction('billets_production.csv')"
   ]
  },
  {
   "cell_type": "code",
   "execution_count": 164,
   "metadata": {},
   "outputs": [
    {
     "name": "stdout",
     "output_type": "stream",
     "text": [
      "Optimization terminated successfully.\n",
      "         Current function value: 0.024450\n",
      "         Iterations 12\n",
      "   diagonal  height_left  height_right  margin_low  margin_up    length   id  \\\n",
      "0 172.09000    103.95000     103.73000     4.39000    3.09000 113.19000  B_1   \n",
      "1 171.52000    104.17000     104.03000     5.27000    3.16000 111.82000  B_2   \n",
      "2 171.78000    103.80000     103.75000     3.81000    3.24000 113.39000  B_3   \n",
      "3 172.02000    104.08000     103.99000     5.57000    3.30000 111.10000  B_4   \n",
      "4 171.79000    104.34000     104.37000     5.00000    3.07000 111.87000  B_5   \n",
      "\n",
      "    prediction  \n",
      "0  vrai billet  \n",
      "1  faux billet  \n",
      "2  vrai billet  \n",
      "3  faux billet  \n",
      "4  faux billet  \n"
     ]
    }
   ],
   "source": [
    "prediction('billets_test.csv')"
   ]
  }
 ],
 "metadata": {
  "kernelspec": {
   "display_name": "Python 3",
   "language": "python",
   "name": "python3"
  },
  "language_info": {
   "codemirror_mode": {
    "name": "ipython",
    "version": 3
   },
   "file_extension": ".py",
   "mimetype": "text/x-python",
   "name": "python",
   "nbconvert_exporter": "python",
   "pygments_lexer": "ipython3",
   "version": "3.8.5"
  }
 },
 "nbformat": 4,
 "nbformat_minor": 4
}
